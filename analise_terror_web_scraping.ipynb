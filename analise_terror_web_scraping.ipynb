{
 "cells": [
  {
   "cell_type": "code",
   "execution_count": null,
   "id": "186d708f",
   "metadata": {},
   "outputs": [],
   "source": [
    "options = webdriver.ChromeOptions()\n",
    "options.add_argument('--headless')  \n",
    "options.add_argument('--no-sandbox')\n",
    "options.add_argument('--disable-dev-shm-usage')\n",
    "options.add_argument('user-agent=Mozilla/5.0 (Windows NT 10.0; Win64; x64) AppleWebKit/537.36')\n",
    "driver = webdriver.Chrome(service=Service(ChromeDriverManager().install()), options=options)\n",
    "\n"
   ]
  },
  {
   "cell_type": "code",
   "execution_count": 23,
   "id": "9ff3947c",
   "metadata": {},
   "outputs": [],
   "source": [
    "url = \"https://www.imdb.com/search/title/?title_type=feature,tv_movie,tv_special,video&release_date=2025-01-01,2025-10-30&interests=in0000112\"\n"
   ]
  },
  {
   "cell_type": "code",
   "execution_count": null,
   "id": "e4eb54dd",
   "metadata": {},
   "outputs": [
    {
     "name": "stdout",
     "output_type": "stream",
     "text": [
      "Página carregada. Aguardando conteúdo...\n",
      "✅ Clicou em 'Mais 50' via JavaScript. Aguardando...\n",
      "\n",
      "✅ Total: 100\n",
      "Primeiros 5: ['A Hora do Mal', 'A Longa Marcha - Caminhe ou Morra', 'Frankenstein', 'O Telefone Preto 2', 'A Mão que Balança o Berço']\n",
      "Últimos 5: ['Screamboat - Terror a Bordo', 'Stay', 'Su from So', 'Drácula', 'A Vingança de Popeye']\n"
     ]
    }
   ],
   "source": [
    "## Irei coletar o nome de 100 filmes do IMDB\n",
    "try:\n",
    "    driver.get(url)\n",
    "    print(\"Página carregada. Aguardando conteúdo...\")\n",
    "    time.sleep(3)\n",
    "    \n",
    "    # Clicar no botão \"Mais 50\" usando JavaScript\n",
    "    try:\n",
    "        botao = WebDriverWait(driver, 10).until(\n",
    "            EC.presence_of_element_located((By.XPATH, \"//span[@class='ipc-see-more__text']\"))\n",
    "        )\n",
    "        # Usar JavaScript para clicar (evita problemas de overlay)\n",
    "        driver.execute_script(\"arguments[0].click();\", botao)\n",
    "        print(\" Clicou em 'Mais 50' via JavaScript. Aguardando...\")\n",
    "        time.sleep(5)\n",
    "    except Exception as e:\n",
    "        print(f\" Erro ao clicar: {e}\")\n",
    "    \n",
    "    # Coletar filmes\n",
    "    soup = bs(driver.page_source, 'html.parser')\n",
    "    filmes = soup.find_all('h3', class_='ipc-title__text')\n",
    "    \n",
    "    todos_filmes = []\n",
    "    for filme in filmes:\n",
    "        texto = filme.text.strip()\n",
    "        if '. ' in texto:\n",
    "            titulo = texto.split('. ', 1)[1]\n",
    "            todos_filmes.append(titulo)\n",
    "    \n",
    "    todos_filmes = todos_filmes[:100]\n",
    "    print(f\"\\n Total: {len(todos_filmes)}\")\n",
    "    \n",
    "finally:\n",
    "    driver.quit()\n"
   ]
  },
  {
   "cell_type": "code",
   "execution_count": null,
   "id": "8989f055",
   "metadata": {},
   "outputs": [],
   "source": [
    "## Aqui irei coletar as notas dos 100 filmes\n",
    "try:\n",
    "    driver.get(url)\n",
    "    print(\"Página carregada. Coletando notas...\")\n",
    "    time.sleep(3)\n",
    "    \n",
    "    # Clicar no botão \"Mais 50\" usando JavaScript\n",
    "    try:\n",
    "        botao = WebDriverWait(driver, 10).until(\n",
    "            EC.presence_of_element_located((By.XPATH, \"//span[@class='ipc-see-more__text']\"))\n",
    "        )\n",
    "        driver.execute_script(\"arguments[0].click();\", botao)\n",
    "        print(\" Clicou em 'Mais 50'. Aguardando...\")\n",
    "        time.sleep(5)\n",
    "    except Exception as e:\n",
    "        print(f\" Erro ao clicar: {e}\")\n",
    "    \n",
    "    # Coletar notas\n",
    "    soup = bs(driver.page_source, 'html.parser')\n",
    "    notas = soup.find_all('span', class_='ipc-rating-star--rating')\n",
    "    \n",
    "    todas_notas = []\n",
    "    for nota in notas:\n",
    "        todas_notas.append(nota.text.strip())\n",
    "    \n",
    "    todas_notas = todas_notas[:100]  # Limitar a 100\n",
    "    print(f\"\\n Total de notas: {len(todas_notas)}\")\n",
    "    \n",
    "finally:\n",
    "    driver.quit()"
   ]
  },
  {
   "cell_type": "code",
   "execution_count": null,
   "id": "10612112",
   "metadata": {},
   "outputs": [],
   "source": [
    "# Por fim irei coletar as URLs de cada filme para poder obter as reviews de cada um deles.\n",
    "try:\n",
    "    driver.get(url)\n",
    "    print(\"Página carregada. Coletando links...\")\n",
    "    time.sleep(3)\n",
    "    \n",
    "    # Clicar no botão \"Mais 50\" usando JavaScript\n",
    "    try:\n",
    "        botao = WebDriverWait(driver, 10).until(\n",
    "            EC.presence_of_element_located((By.XPATH, \"//span[@class='ipc-see-more__text']\"))\n",
    "        )\n",
    "        driver.execute_script(\"arguments[0].click();\", botao)\n",
    "        time.sleep(5)\n",
    "    except Exception as e:\n",
    "        print(f\"⚠️ Erro ao clicar: {e}\")\n",
    "    \n",
    "    # Coletar links\n",
    "    soup = bs(driver.page_source, 'html.parser')\n",
    "    links = soup.find_all('a', class_='ipc-title-link-wrapper')\n",
    "    \n",
    "    urls_filmes = []\n",
    "    for link in links:\n",
    "        href = link.get('href')\n",
    "        if href and '/title/' in href:\n",
    "            url_completa = f\"https://www.imdb.com{href}\"\n",
    "            urls_filmes.append(url_completa)\n",
    "    \n",
    "    urls_filmes = urls_filmes[:100]  # Limitar a 100\n",
    "    print(f\"\\n Total de URLs: {len(urls_filmes)}\")\n",
    "    \n",
    "finally:\n",
    "    driver.quit()\n",
    "\n"
   ]
  },
  {
   "cell_type": "code",
   "execution_count": 96,
   "id": "a348f625",
   "metadata": {},
   "outputs": [],
   "source": [
    "# Ajustar para o mesmo tamanho (preencher com None onde não há nota)\n",
    "tamanho_maximo = max(len(todos_filmes), len(todas_notas), len(urls_filmes))\n",
    "tamanho_minimo = min(len(todos_filmes), len(todas_notas), len(urls_filmes))\n",
    "\n",
    "# Usar o tamanho dos filmes como referência (100)\n",
    "df_filmes = pd.DataFrame({\n",
    "    'Titulo': todos_filmes[:100],\n",
    "    'Link': urls_filmes[:100],\n",
    "    'Nota_IMDb': (todas_notas + [None] * 100)[:100]  # Preenche com None se faltar\n",
    "})\n"
   ]
  },
  {
   "cell_type": "code",
   "execution_count": 98,
   "id": "07f3638d",
   "metadata": {},
   "outputs": [],
   "source": [
    "def coletar_reviews(url_filme, num_reviews=20):\n",
    "    \"\"\"Coleta reviews clicando no botão 'Ver tudo'\"\"\"\n",
    "    url_base = url_filme.replace('/pt/title/', '/title/')\n",
    "    imdb_id = url_base.split(\"/title/\")[1].split(\"/\")[0].split(\"?\")[0]\n",
    "    url_reviews = f\"https://www.imdb.com/title/{imdb_id}/reviews/\"\n",
    "    \n",
    "    stop_phrases = [\n",
    "        'Featured in', 'Written and Performed by', 'Courtesy of', 'Official Trailer'\n",
    "    ]\n",
    "    \n",
    "    try:\n",
    "        \n",
    "        driver.get(url_reviews)\n",
    "        time.sleep(3)\n",
    "        \n",
    "        # Scroll até o botão aparecer\n",
    "        driver.execute_script(\"window.scrollTo(0, document.body.scrollHeight);\")\n",
    "        time.sleep(2)\n",
    "        \n",
    "        \n",
    "        try:\n",
    "            # Procurar o botão que contém \"Ver tudo\" para ver todas as reviews\n",
    "            botao = driver.find_element(By.XPATH, \"//button[.//span[text()='Ver tudo']]\")\n",
    "            driver.execute_script(\"arguments[0].scrollIntoView();\", botao)\n",
    "            time.sleep(1)\n",
    "            driver.execute_script(\"arguments[0].click();\", botao)\n",
    "            time.sleep(5)\n",
    "        except Exception as e:\n",
    "            print(f\" Botão não encontrado: {e}\")\n",
    "        \n",
    "        # Coletar reviews\n",
    "        soup = bs(driver.page_source, 'html.parser')\n",
    "        reviews_elements = soup.find_all('div', class_='ipc-html-content-inner-div')\n",
    "        \n",
    "        reviews = []\n",
    "        for review in reviews_elements:\n",
    "            texto = review.text.strip()\n",
    "            contem_stop = any(stop in texto for stop in stop_phrases)\n",
    "            \n",
    "            if len(texto) > 50 and not contem_stop:\n",
    "                reviews.append(texto)\n",
    "                \n",
    "                if len(reviews) >= num_reviews:\n",
    "                    break\n",
    "        \n",
    "        return reviews[:num_reviews]\n",
    "        \n",
    "    except Exception as e:\n",
    "        print(f\" Erro: {e}\")\n",
    "        return []\n"
   ]
  },
  {
   "cell_type": "code",
   "execution_count": null,
   "id": "7c2f216e",
   "metadata": {},
   "outputs": [
    {
     "name": "stdout",
     "output_type": "stream",
     "text": [
      "TESTANDO PALAVRAS:\n",
      "\n",
      "'scary and terrifying'\n",
      "Compound: -0.7845\n",
      "\n",
      "'boring and bad'\n",
      "Compound: -0.7003\n",
      "\n",
      "'suspenseful and creepy'\n",
      "Compound: 0.0\n",
      "\n",
      "'amazing horror film'\n",
      "Compound: 0.0258\n",
      "\n",
      "'disappointing and slow'\n",
      "Compound: -0.4939\n"
     ]
    }
   ],
   "source": [
    "# Percebi que a análise geral da primeira review era um sentimento negativo. Mas na verdade, a review era extremamente positiva!\n",
    "# Com isso em mente resolvi verificar se palavras fortemente ligadas ao terror estavam sendo mal interpretadas:\n",
    "palavras_teste = [\n",
    "    \"scary and terrifying\",  # Deveria ser positivo para terror\n",
    "    \"boring and bad\",  # Deveria ser negativo\n",
    "    \"suspenseful and creepy\",  # Deveria ser positivo para terror\n",
    "    \"amazing horror film\",  # Positivo\n",
    "    \"disappointing and slow\"  # Negativo\n",
    "]\n",
    "\n",
    "print(\"TESTANDO PALAVRAS:\")\n",
    "for frase in palavras_teste:\n",
    "    score = analyzer.polarity_scores(frase)\n",
    "    print(f\"\\n'{frase}'\")\n",
    "    print(f\"Compound: {score['compound']}\")"
   ]
  },
  {
   "cell_type": "markdown",
   "id": "79148ef7",
   "metadata": {},
   "source": [
    "## Problemática encontrada:\n",
    "Como observado acima, em um contexto de filmes de terror palavras como 'assustador' deveriam ser interpretadas como indicadores positivos, mas estavam sendo interpretados como negativo ao invés disso. Com isso conclui que é necessário atualizar o léxico do Vader, adicionando palavras fortemente ligadas ao gênero e seus respectivos pesos. Após realizar o ajuste, notei que o compound ligado a palavras de terror melhor significativemente. Dito isso, irei prosseguir com todas as reviews de todos os filmes.\n"
   ]
  },
  {
   "cell_type": "code",
   "execution_count": null,
   "id": "15ccc898",
   "metadata": {},
   "outputs": [],
   "source": [
    "## função para identificar sentimentos nas reviews\n",
    "from vaderSentiment.vaderSentiment import SentimentIntensityAnalyzer\n",
    "\n",
    "analyzer = SentimentIntensityAnalyzer()\n",
    "\n",
    "# Adicionar palavras de terror como POSITIVAS\n",
    "palavras_terror_positivas = {\n",
    "    'scary': 2.5,\n",
    "    'terrifying': 3.0,\n",
    "    'horrifying': 3.0,\n",
    "    'creepy': 2.5,\n",
    "    'disturbing': 2.5,\n",
    "    'suspenseful': 2.5,\n",
    "    'tense': 2.0,\n",
    "    'atmospheric': 2.0,\n",
    "    'eerie': 2.5,\n",
    "    'chilling': 2.5,\n",
    "    'unsettling': 2.5,\n",
    "    'haunting': 2.5,\n",
    "    'dark': 1.5,\n",
    "    'twisted': 2.0,\n",
    "    'shocking': 2.0,\n",
    "    'intense': 2.5,\n",
    "    'thrilling': 3.0,\n",
    "    'gripping': 2.5,\n",
    "    'spine-chilling': 3.5,\n",
    "    'frightening': 3.0,\n",
    "    'gore': 2.0,\n",
    "    'gory': 2.0,\n",
    "    'bloody': 1.5,\n",
    "    'brutal': 2.0,\n",
    "    'horror': 2.0\n",
    "}\n",
    "\n",
    "# Atualizar o léxico do VADER\n",
    "analyzer.lexicon.update(palavras_terror_positivas)\n",
    "\n",
    "def analisar_sentimento_review(texto):\n",
    "    \"\"\"Analisa sentimento de uma review\"\"\"\n",
    "    scores = analyzer.polarity_scores(texto)\n",
    "    \n",
    "    return {\n",
    "        'compound': scores['compound'],  \n",
    "        'positive': scores['pos'],\n",
    "        'negative': scores['neg'],\n",
    "        'neutral': scores['neu']\n",
    "    }\n",
    "\n",
    "def analisar_sentimento_filme_terror(reviews):\n",
    "    \"\"\"Analisa reviews de filme de terror com léxico ajustado\"\"\"\n",
    "    if not reviews:\n",
    "        return None\n",
    "    \n",
    "    sentimentos = []\n",
    "    for review in reviews:\n",
    "        score = analyzer.polarity_scores(review)\n",
    "        sentimentos.append(score['compound'])\n",
    "    \n",
    "    return {\n",
    "        'sentimento_medio': sum(sentimentos) / len(sentimentos),\n",
    "        'sentimento_max': max(sentimentos),\n",
    "        'sentimento_min': min(sentimentos),\n",
    "        'num_reviews': len(reviews),\n",
    "        'reviews_positivas': sum(1 for s in sentimentos if s >= 0.05),\n",
    "        'reviews_negativas': sum(1 for s in sentimentos if s <= -0.05)\n",
    "    }"
   ]
  },
  {
   "cell_type": "code",
   "execution_count": null,
   "id": "879584c6",
   "metadata": {},
   "outputs": [],
   "source": [
    "# Coloquei aqui algumas palavras-chave que considero boas para categorizar emoções em filmes de terror\n",
    "emocoes_terror = {\n",
    "    'medo_intenso': ['terrifying', 'scary', 'frightening', 'horrifying', 'creepy', 'disturbing'],\n",
    "    'suspense': ['suspenseful', 'tense', 'thrilling', 'gripping', 'edge of seat'],\n",
    "    'gore': ['bloody', 'gore', 'gruesome', 'violent', 'graphic'],\n",
    "    'atmosfera': ['atmospheric', 'eerie', 'haunting', 'dark', 'unsettling'],\n",
    "    'jump_scares': ['jump scare', 'startling', 'shocking']\n",
    "}\n",
    "\n",
    "def classificar_emocoes_terror(reviews):\n",
    "\n",
    "    contagem = {emocao: 0 for emocao in emocoes_terror.keys()}\n",
    "    \n",
    "    for review in reviews:\n",
    "        review_lower = review.lower()\n",
    "        for emocao, palavras in emocoes_terror.items():\n",
    "            if any(palavra in review_lower for palavra in palavras):\n",
    "                contagem[emocao] += 1\n",
    "    \n",
    "    return contagem"
   ]
  },
  {
   "cell_type": "code",
   "execution_count": 100,
   "id": "91f86e60",
   "metadata": {},
   "outputs": [
    {
     "name": "stderr",
     "output_type": "stream",
     "text": [
      "Coletando reviews:   0%|          | 0/100 [00:00<?, ?it/s]"
     ]
    },
    {
     "name": "stdout",
     "output_type": "stream",
     "text": [
      "\n",
      "1. A Hora do Mal\n",
      "Acessando: https://www.imdb.com/title/tt26581740/reviews/\n",
      "  ✅ Clicou em 'Ver tudo'\n",
      "20 reviews | Sentimento: 0.818\n"
     ]
    },
    {
     "name": "stderr",
     "output_type": "stream",
     "text": [
      "Coletando reviews:   1%|          | 1/100 [00:18<29:43, 18.01s/it]"
     ]
    },
    {
     "name": "stdout",
     "output_type": "stream",
     "text": [
      "\n",
      "2. A Longa Marcha - Caminhe ou Morra\n",
      "Acessando: https://www.imdb.com/title/tt10374610/reviews/\n",
      "  ✅ Clicou em 'Ver tudo'\n",
      "20 reviews | Sentimento: 0.436\n"
     ]
    },
    {
     "name": "stderr",
     "output_type": "stream",
     "text": [
      "Coletando reviews:   2%|▏         | 2/100 [00:34<27:42, 16.96s/it]"
     ]
    },
    {
     "name": "stdout",
     "output_type": "stream",
     "text": [
      "\n",
      "3. Frankenstein\n",
      "Acessando: https://www.imdb.com/title/tt1312221/reviews/\n",
      "  ✅ Clicou em 'Ver tudo'\n",
      "20 reviews | Sentimento: 0.799\n"
     ]
    },
    {
     "name": "stderr",
     "output_type": "stream",
     "text": [
      "Coletando reviews:   3%|▎         | 3/100 [00:50<26:32, 16.42s/it]"
     ]
    },
    {
     "name": "stdout",
     "output_type": "stream",
     "text": [
      "\n",
      "4. O Telefone Preto 2\n",
      "Acessando: https://www.imdb.com/title/tt29644189/reviews/\n",
      "  ✅ Clicou em 'Ver tudo'\n",
      "20 reviews | Sentimento: 0.516\n"
     ]
    },
    {
     "name": "stderr",
     "output_type": "stream",
     "text": [
      "Coletando reviews:   4%|▍         | 4/100 [01:05<25:58, 16.23s/it]"
     ]
    },
    {
     "name": "stdout",
     "output_type": "stream",
     "text": [
      "\n",
      "5. A Mão que Balança o Berço\n",
      "Acessando: https://www.imdb.com/title/tt33502160/reviews/\n",
      "  ✅ Clicou em 'Ver tudo'\n",
      "20 reviews | Sentimento: 0.340\n"
     ]
    },
    {
     "name": "stderr",
     "output_type": "stream",
     "text": [
      "Coletando reviews:   5%|▌         | 5/100 [01:21<25:07, 15.87s/it]"
     ]
    },
    {
     "name": "stdout",
     "output_type": "stream",
     "text": [
      "\n",
      "6. O elixir\n",
      "Acessando: https://www.imdb.com/title/tt32643830/reviews/\n",
      "  ✅ Clicou em 'Ver tudo'\n",
      "20 reviews | Sentimento: 0.298\n"
     ]
    },
    {
     "name": "stderr",
     "output_type": "stream",
     "text": [
      "Coletando reviews:   6%|▌         | 6/100 [01:36<24:36, 15.71s/it]"
     ]
    },
    {
     "name": "stdout",
     "output_type": "stream",
     "text": [
      "\n",
      "7. Bom Menino\n",
      "Acessando: https://www.imdb.com/title/tt35521922/reviews/\n",
      "  ✅ Clicou em 'Ver tudo'\n",
      "20 reviews | Sentimento: 0.875\n"
     ]
    },
    {
     "name": "stderr",
     "output_type": "stream",
     "text": [
      "Coletando reviews:   7%|▋         | 7/100 [01:52<24:31, 15.83s/it]"
     ]
    },
    {
     "name": "stdout",
     "output_type": "stream",
     "text": [
      "\n",
      "8. Chainsaw Man - O Filme: Arco da Reze\n",
      "Acessando: https://www.imdb.com/title/tt30472557/reviews/\n",
      "  ✅ Clicou em 'Ver tudo'\n",
      "20 reviews | Sentimento: 0.708\n"
     ]
    },
    {
     "name": "stderr",
     "output_type": "stream",
     "text": [
      "Coletando reviews:   8%|▊         | 8/100 [02:08<24:11, 15.78s/it]"
     ]
    },
    {
     "name": "stdout",
     "output_type": "stream",
     "text": [
      "\n",
      "9. Eu Sei o que Vocês Fizeram no Verão Passado\n",
      "Acessando: https://www.imdb.com/title/tt4045450/reviews/\n",
      "  ✅ Clicou em 'Ver tudo'\n",
      "20 reviews | Sentimento: 0.375\n"
     ]
    },
    {
     "name": "stderr",
     "output_type": "stream",
     "text": [
      "Coletando reviews:   9%|▉         | 9/100 [02:23<23:50, 15.72s/it]"
     ]
    },
    {
     "name": "stdout",
     "output_type": "stream",
     "text": [
      "\n",
      "10. Pecadores\n",
      "Acessando: https://www.imdb.com/title/tt31193180/reviews/\n",
      "  ✅ Clicou em 'Ver tudo'\n",
      "20 reviews | Sentimento: 0.801\n"
     ]
    },
    {
     "name": "stderr",
     "output_type": "stream",
     "text": [
      "Coletando reviews:  10%|█         | 10/100 [02:39<23:32, 15.70s/it]"
     ]
    },
    {
     "name": "stdout",
     "output_type": "stream",
     "text": [
      "\n",
      "11. Invocação do Mal 4: O Último Ritual\n",
      "Acessando: https://www.imdb.com/title/tt22898462/reviews/\n",
      "  ✅ Clicou em 'Ver tudo'\n",
      "20 reviews | Sentimento: 0.637\n"
     ]
    },
    {
     "name": "stderr",
     "output_type": "stream",
     "text": [
      "Coletando reviews:  11%|█         | 11/100 [02:55<23:15, 15.68s/it]"
     ]
    },
    {
     "name": "stdout",
     "output_type": "stream",
     "text": [
      "\n",
      "12. Faça Ela Voltar\n",
      "Acessando: https://www.imdb.com/title/tt32246771/reviews/\n",
      "  ✅ Clicou em 'Ver tudo'\n",
      "20 reviews | Sentimento: 0.691\n"
     ]
    },
    {
     "name": "stderr",
     "output_type": "stream",
     "text": [
      "Coletando reviews:  12%|█▏        | 12/100 [03:10<22:59, 15.68s/it]"
     ]
    },
    {
     "name": "stdout",
     "output_type": "stream",
     "text": [
      "\n",
      "13. Extermínio: A Evolução\n",
      "Acessando: https://www.imdb.com/title/tt10548174/reviews/\n",
      "  ✅ Clicou em 'Ver tudo'\n",
      "20 reviews | Sentimento: 0.499\n"
     ]
    },
    {
     "name": "stderr",
     "output_type": "stream",
     "text": [
      "Coletando reviews:  13%|█▎        | 13/100 [03:26<22:53, 15.79s/it]"
     ]
    },
    {
     "name": "stdout",
     "output_type": "stream",
     "text": [
      "\n",
      "14. Thamma\n",
      "Acessando: https://www.imdb.com/title/tt28102562/reviews/\n",
      "  ✅ Clicou em 'Ver tudo'\n",
      "20 reviews | Sentimento: 0.655\n"
     ]
    },
    {
     "name": "stderr",
     "output_type": "stream",
     "text": [
      "Coletando reviews:  14%|█▍        | 14/100 [03:43<22:50, 15.94s/it]"
     ]
    },
    {
     "name": "stdout",
     "output_type": "stream",
     "text": [
      "\n",
      "15. Drácula: Uma História de Amor Eterno\n",
      "Acessando: https://www.imdb.com/title/tt31434030/reviews/\n",
      "  ✅ Clicou em 'Ver tudo'\n",
      "20 reviews | Sentimento: 0.753\n"
     ]
    },
    {
     "name": "stderr",
     "output_type": "stream",
     "text": [
      "Coletando reviews:  15%|█▌        | 15/100 [03:59<22:48, 16.10s/it]"
     ]
    },
    {
     "name": "stdout",
     "output_type": "stream",
     "text": [
      "\n",
      "16. Presente Maldito\n",
      "Acessando: https://www.imdb.com/title/tt31511689/reviews/\n",
      "  ✅ Clicou em 'Ver tudo'\n",
      "20 reviews | Sentimento: 0.314\n"
     ]
    },
    {
     "name": "stderr",
     "output_type": "stream",
     "text": [
      "Coletando reviews:  16%|█▌        | 16/100 [04:14<22:11, 15.85s/it]"
     ]
    },
    {
     "name": "stdout",
     "output_type": "stream",
     "text": [
      "\n",
      "17. A Astronauta\n",
      "Acessando: https://www.imdb.com/title/tt13964560/reviews/\n",
      "  ✅ Clicou em 'Ver tudo'\n",
      "20 reviews | Sentimento: 0.240\n"
     ]
    },
    {
     "name": "stderr",
     "output_type": "stream",
     "text": [
      "Coletando reviews:  17%|█▋        | 17/100 [04:30<21:38, 15.65s/it]"
     ]
    },
    {
     "name": "stdout",
     "output_type": "stream",
     "text": [
      "\n",
      "18. Vash Level 2\n",
      "Acessando: https://www.imdb.com/title/tt35529436/reviews/\n",
      "  ✅ Clicou em 'Ver tudo'\n",
      "20 reviews | Sentimento: 0.702\n"
     ]
    },
    {
     "name": "stderr",
     "output_type": "stream",
     "text": [
      "Coletando reviews:  18%|█▊        | 18/100 [04:45<21:08, 15.47s/it]"
     ]
    },
    {
     "name": "stdout",
     "output_type": "stream",
     "text": [
      "\n",
      "19. Juntos\n",
      "Acessando: https://www.imdb.com/title/tt31184028/reviews/\n",
      "  ✅ Clicou em 'Ver tudo'\n",
      "20 reviews | Sentimento: 0.814\n"
     ]
    },
    {
     "name": "stderr",
     "output_type": "stream",
     "text": [
      "Coletando reviews:  19%|█▉        | 19/100 [05:01<21:06, 15.63s/it]"
     ]
    },
    {
     "name": "stdout",
     "output_type": "stream",
     "text": [
      "\n",
      "20. Until Dawn: Noite de Terror\n",
      "Acessando: https://www.imdb.com/title/tt30955489/reviews/\n",
      "  ✅ Clicou em 'Ver tudo'\n",
      "20 reviews | Sentimento: 0.827\n"
     ]
    },
    {
     "name": "stderr",
     "output_type": "stream",
     "text": [
      "Coletando reviews:  20%|██        | 20/100 [05:17<21:01, 15.77s/it]"
     ]
    },
    {
     "name": "stdout",
     "output_type": "stream",
     "text": [
      "\n",
      "21. GOAT\n",
      "Acessando: https://www.imdb.com/title/tt20990442/reviews/\n",
      "  ✅ Clicou em 'Ver tudo'\n",
      "20 reviews | Sentimento: 0.323\n"
     ]
    },
    {
     "name": "stderr",
     "output_type": "stream",
     "text": [
      "Coletando reviews:  21%|██        | 21/100 [05:34<21:19, 16.19s/it]"
     ]
    },
    {
     "name": "stdout",
     "output_type": "stream",
     "text": [
      "\n",
      "22. O Macaco\n",
      "Acessando: https://www.imdb.com/title/tt27714946/reviews/\n",
      "  ✅ Clicou em 'Ver tudo'\n",
      "20 reviews | Sentimento: 0.477\n"
     ]
    },
    {
     "name": "stderr",
     "output_type": "stream",
     "text": [
      "Coletando reviews:  22%|██▏       | 22/100 [05:51<21:11, 16.30s/it]"
     ]
    },
    {
     "name": "stdout",
     "output_type": "stream",
     "text": [
      "\n",
      "23. Premonição 6: Laços de Sangue\n",
      "Acessando: https://www.imdb.com/title/tt9619824/reviews/\n",
      "  ✅ Clicou em 'Ver tudo'\n",
      "20 reviews | Sentimento: 0.928\n"
     ]
    },
    {
     "name": "stderr",
     "output_type": "stream",
     "text": [
      "Coletando reviews:  23%|██▎       | 23/100 [06:07<21:02, 16.39s/it]"
     ]
    },
    {
     "name": "stdout",
     "output_type": "stream",
     "text": [
      "\n",
      "24. A Meia-Irmã Feia\n",
      "Acessando: https://www.imdb.com/title/tt29344903/reviews/\n",
      "  ✅ Clicou em 'Ver tudo'\n",
      "20 reviews | Sentimento: 0.937\n"
     ]
    },
    {
     "name": "stderr",
     "output_type": "stream",
     "text": [
      "Coletando reviews:  24%|██▍       | 24/100 [06:23<20:29, 16.18s/it]"
     ]
    },
    {
     "name": "stdout",
     "output_type": "stream",
     "text": [
      "\n",
      "25. Os Estranhos: Capítulo 2\n",
      "Acessando: https://www.imdb.com/title/tt28671344/reviews/\n",
      "  ✅ Clicou em 'Ver tudo'\n",
      "20 reviews | Sentimento: -0.079\n"
     ]
    },
    {
     "name": "stderr",
     "output_type": "stream",
     "text": [
      "Coletando reviews:  25%|██▌       | 25/100 [06:39<20:09, 16.12s/it]"
     ]
    },
    {
     "name": "stdout",
     "output_type": "stream",
     "text": [
      "\n",
      "26. V/H/S: Halloween\n",
      "Acessando: https://www.imdb.com/title/tt37676033/reviews/\n",
      "  ✅ Clicou em 'Ver tudo'\n",
      "20 reviews | Sentimento: 0.284\n"
     ]
    },
    {
     "name": "stderr",
     "output_type": "stream",
     "text": [
      "Coletando reviews:  26%|██▌       | 26/100 [06:54<19:43, 15.99s/it]"
     ]
    },
    {
     "name": "stdout",
     "output_type": "stream",
     "text": [
      "\n",
      "27. Entre Montanhas\n",
      "Acessando: https://www.imdb.com/title/tt13654226/reviews/\n",
      "  ✅ Clicou em 'Ver tudo'\n",
      "20 reviews | Sentimento: 0.846\n"
     ]
    },
    {
     "name": "stderr",
     "output_type": "stream",
     "text": [
      "Coletando reviews:  27%|██▋       | 27/100 [07:10<19:15, 15.83s/it]"
     ]
    },
    {
     "name": "stdout",
     "output_type": "stream",
     "text": [
      "\n",
      "28. R.L. Stine's Pumpkinhead\n",
      "Acessando: https://www.imdb.com/title/tt38218065/reviews/\n",
      "  ⚠️ Botão não encontrado: Message: no such element: Unable to locate element: {\"method\":\"xpath\",\"selector\":\"//button[.//span[text()='Ver tudo']]\"}\n",
      "  (Session info: chrome=141.0.7390.123); For documentation on this error, please visit: https://www.selenium.dev/documentation/webdriver/troubleshooting/errors#nosuchelementexception\n",
      "Stacktrace:\n",
      "\tGetHandleVerifier [0x0x110fe43+66515]\n",
      "\tGetHandleVerifier [0x0x110fe84+66580]\n",
      "\t(No symbol) [0x0xefdc48]\n",
      "\t(No symbol) [0x0xf48704]\n",
      "\t(No symbol) [0x0xf48aab]\n",
      "\t(No symbol) [0x0xf8f482]\n",
      "\t(No symbol) [0x0xf6b214]\n",
      "\t(No symbol) [0x0xf8cba7]\n",
      "\t(No symbol) [0x0xf6afc6]\n",
      "\t(No symbol) [0x0xf3c2ca]\n",
      "\t(No symbol) [0x0xf3d154]\n",
      "\tGetHandleVerifier [0x0x1367353+2521315]\n",
      "\tGetHandleVerifier [0x0x13622d3+2500707]\n",
      "\tGetHandleVerifier [0x0x1137c94+229924]\n",
      "\tGetHandleVerifier [0x0x11281f8+165768]\n",
      "\tGetHandleVerifier [0x0x112ecad+193085]\n",
      "\tGetHandleVerifier [0x0x1118158+100072]\n",
      "\tGetHandleVerifier [0x0x11182f0+100480]\n",
      "\tGetHandleVerifier [0x0x11025aa+11066]\n",
      "\tBaseThreadInitThunk [0x0x770dfcc9+25]\n",
      "\tRtlGetAppContainerNamedObjectPath [0x0x77d782ae+286]\n",
      "\tRtlGetAppContainerNamedObjectPath [0x0x77d7827e+238]\n",
      "\n",
      "13 reviews | Sentimento: 0.869\n"
     ]
    },
    {
     "name": "stderr",
     "output_type": "stream",
     "text": [
      "Coletando reviews:  28%|██▊       | 28/100 [07:19<16:36, 13.84s/it]"
     ]
    },
    {
     "name": "stdout",
     "output_type": "stream",
     "text": [
      "\n",
      "29. Your Host\n",
      "Acessando: https://www.imdb.com/title/tt33980854/reviews/\n",
      "  ⚠️ Botão não encontrado: Message: no such element: Unable to locate element: {\"method\":\"xpath\",\"selector\":\"//button[.//span[text()='Ver tudo']]\"}\n",
      "  (Session info: chrome=141.0.7390.123); For documentation on this error, please visit: https://www.selenium.dev/documentation/webdriver/troubleshooting/errors#nosuchelementexception\n",
      "Stacktrace:\n",
      "\tGetHandleVerifier [0x0x110fe43+66515]\n",
      "\tGetHandleVerifier [0x0x110fe84+66580]\n",
      "\t(No symbol) [0x0xefdc48]\n",
      "\t(No symbol) [0x0xf48704]\n",
      "\t(No symbol) [0x0xf48aab]\n",
      "\t(No symbol) [0x0xf8f482]\n",
      "\t(No symbol) [0x0xf6b214]\n",
      "\t(No symbol) [0x0xf8cba7]\n",
      "\t(No symbol) [0x0xf6afc6]\n",
      "\t(No symbol) [0x0xf3c2ca]\n",
      "\t(No symbol) [0x0xf3d154]\n",
      "\tGetHandleVerifier [0x0x1367353+2521315]\n",
      "\tGetHandleVerifier [0x0x13622d3+2500707]\n",
      "\tGetHandleVerifier [0x0x1137c94+229924]\n",
      "\tGetHandleVerifier [0x0x11281f8+165768]\n",
      "\tGetHandleVerifier [0x0x112ecad+193085]\n",
      "\tGetHandleVerifier [0x0x1118158+100072]\n",
      "\tGetHandleVerifier [0x0x11182f0+100480]\n",
      "\tGetHandleVerifier [0x0x11025aa+11066]\n",
      "\tBaseThreadInitThunk [0x0x770dfcc9+25]\n",
      "\tRtlGetAppContainerNamedObjectPath [0x0x77d782ae+286]\n",
      "\tRtlGetAppContainerNamedObjectPath [0x0x77d7827e+238]\n",
      "\n",
      "19 reviews | Sentimento: 0.722\n"
     ]
    },
    {
     "name": "stderr",
     "output_type": "stream",
     "text": [
      "Coletando reviews:  29%|██▉       | 29/100 [07:28<14:43, 12.44s/it]"
     ]
    },
    {
     "name": "stdout",
     "output_type": "stream",
     "text": [
      "\n",
      "30. O Primata\n",
      "Acessando: https://www.imdb.com/title/tt33028778/reviews/\n",
      "  ⚠️ Botão não encontrado: Message: no such element: Unable to locate element: {\"method\":\"xpath\",\"selector\":\"//button[.//span[text()='Ver tudo']]\"}\n",
      "  (Session info: chrome=141.0.7390.123); For documentation on this error, please visit: https://www.selenium.dev/documentation/webdriver/troubleshooting/errors#nosuchelementexception\n",
      "Stacktrace:\n",
      "\tGetHandleVerifier [0x0x110fe43+66515]\n",
      "\tGetHandleVerifier [0x0x110fe84+66580]\n",
      "\t(No symbol) [0x0xefdc48]\n",
      "\t(No symbol) [0x0xf48704]\n",
      "\t(No symbol) [0x0xf48aab]\n",
      "\t(No symbol) [0x0xf8f482]\n",
      "\t(No symbol) [0x0xf6b214]\n",
      "\t(No symbol) [0x0xf8cba7]\n",
      "\t(No symbol) [0x0xf6afc6]\n",
      "\t(No symbol) [0x0xf3c2ca]\n",
      "\t(No symbol) [0x0xf3d154]\n",
      "\tGetHandleVerifier [0x0x1367353+2521315]\n",
      "\tGetHandleVerifier [0x0x13622d3+2500707]\n",
      "\tGetHandleVerifier [0x0x1137c94+229924]\n",
      "\tGetHandleVerifier [0x0x11281f8+165768]\n",
      "\tGetHandleVerifier [0x0x112ecad+193085]\n",
      "\tGetHandleVerifier [0x0x1118158+100072]\n",
      "\tGetHandleVerifier [0x0x11182f0+100480]\n",
      "\tGetHandleVerifier [0x0x11025aa+11066]\n",
      "\tBaseThreadInitThunk [0x0x770dfcc9+25]\n",
      "\tRtlGetAppContainerNamedObjectPath [0x0x77d782ae+286]\n",
      "\tRtlGetAppContainerNamedObjectPath [0x0x77d7827e+238]\n",
      "\n",
      "2 reviews | Sentimento: 0.995\n"
     ]
    },
    {
     "name": "stderr",
     "output_type": "stream",
     "text": [
      "Coletando reviews:  30%|███       | 30/100 [07:37<13:13, 11.34s/it]"
     ]
    },
    {
     "name": "stdout",
     "output_type": "stream",
     "text": [
      "\n",
      "31. Other\n",
      "Acessando: https://www.imdb.com/title/tt34207924/reviews/\n",
      "  ⚠️ Botão não encontrado: Message: no such element: Unable to locate element: {\"method\":\"xpath\",\"selector\":\"//button[.//span[text()='Ver tudo']]\"}\n",
      "  (Session info: chrome=141.0.7390.123); For documentation on this error, please visit: https://www.selenium.dev/documentation/webdriver/troubleshooting/errors#nosuchelementexception\n",
      "Stacktrace:\n",
      "\tGetHandleVerifier [0x0x110fe43+66515]\n",
      "\tGetHandleVerifier [0x0x110fe84+66580]\n",
      "\t(No symbol) [0x0xefdc48]\n",
      "\t(No symbol) [0x0xf48704]\n",
      "\t(No symbol) [0x0xf48aab]\n",
      "\t(No symbol) [0x0xf8f482]\n",
      "\t(No symbol) [0x0xf6b214]\n",
      "\t(No symbol) [0x0xf8cba7]\n",
      "\t(No symbol) [0x0xf6afc6]\n",
      "\t(No symbol) [0x0xf3c2ca]\n",
      "\t(No symbol) [0x0xf3d154]\n",
      "\tGetHandleVerifier [0x0x1367353+2521315]\n",
      "\tGetHandleVerifier [0x0x13622d3+2500707]\n",
      "\tGetHandleVerifier [0x0x1137c94+229924]\n",
      "\tGetHandleVerifier [0x0x11281f8+165768]\n",
      "\tGetHandleVerifier [0x0x112ecad+193085]\n",
      "\tGetHandleVerifier [0x0x1118158+100072]\n",
      "\tGetHandleVerifier [0x0x11182f0+100480]\n",
      "\tGetHandleVerifier [0x0x11025aa+11066]\n",
      "\tBaseThreadInitThunk [0x0x770dfcc9+25]\n",
      "\tRtlGetAppContainerNamedObjectPath [0x0x77d782ae+286]\n",
      "\tRtlGetAppContainerNamedObjectPath [0x0x77d7827e+238]\n",
      "\n",
      "12 reviews | Sentimento: 0.411\n"
     ]
    },
    {
     "name": "stderr",
     "output_type": "stream",
     "text": [
      "Coletando reviews:  31%|███       | 31/100 [07:46<12:20, 10.73s/it]"
     ]
    },
    {
     "name": "stdout",
     "output_type": "stream",
     "text": [
      "\n",
      "32. Animais Perigosos\n",
      "Acessando: https://www.imdb.com/title/tt32299316/reviews/\n",
      "  ✅ Clicou em 'Ver tudo'\n",
      "20 reviews | Sentimento: 0.782\n"
     ]
    },
    {
     "name": "stderr",
     "output_type": "stream",
     "text": [
      "Coletando reviews:  32%|███▏      | 32/100 [08:03<14:03, 12.41s/it]"
     ]
    },
    {
     "name": "stdout",
     "output_type": "stream",
     "text": [
      "\n",
      "33. Primitive War\n",
      "Acessando: https://www.imdb.com/title/tt18312380/reviews/\n",
      "  ✅ Clicou em 'Ver tudo'\n",
      "20 reviews | Sentimento: 0.296\n"
     ]
    },
    {
     "name": "stderr",
     "output_type": "stream",
     "text": [
      "Coletando reviews:  33%|███▎      | 33/100 [08:19<15:00, 13.44s/it]"
     ]
    },
    {
     "name": "stdout",
     "output_type": "stream",
     "text": [
      "\n",
      "34. Ataque 13\n",
      "Acessando: https://www.imdb.com/title/tt37332874/reviews/\n",
      "  ⚠️ Botão não encontrado: Message: no such element: Unable to locate element: {\"method\":\"xpath\",\"selector\":\"//button[.//span[text()='Ver tudo']]\"}\n",
      "  (Session info: chrome=141.0.7390.123); For documentation on this error, please visit: https://www.selenium.dev/documentation/webdriver/troubleshooting/errors#nosuchelementexception\n",
      "Stacktrace:\n",
      "\tGetHandleVerifier [0x0x110fe43+66515]\n",
      "\tGetHandleVerifier [0x0x110fe84+66580]\n",
      "\t(No symbol) [0x0xefdc48]\n",
      "\t(No symbol) [0x0xf48704]\n",
      "\t(No symbol) [0x0xf48aab]\n",
      "\t(No symbol) [0x0xf8f482]\n",
      "\t(No symbol) [0x0xf6b214]\n",
      "\t(No symbol) [0x0xf8cba7]\n",
      "\t(No symbol) [0x0xf6afc6]\n",
      "\t(No symbol) [0x0xf3c2ca]\n",
      "\t(No symbol) [0x0xf3d154]\n",
      "\tGetHandleVerifier [0x0x1367353+2521315]\n",
      "\tGetHandleVerifier [0x0x13622d3+2500707]\n",
      "\tGetHandleVerifier [0x0x1137c94+229924]\n",
      "\tGetHandleVerifier [0x0x11281f8+165768]\n",
      "\tGetHandleVerifier [0x0x112ecad+193085]\n",
      "\tGetHandleVerifier [0x0x1118158+100072]\n",
      "\tGetHandleVerifier [0x0x11182f0+100480]\n",
      "\tGetHandleVerifier [0x0x11025aa+11066]\n",
      "\tBaseThreadInitThunk [0x0x770dfcc9+25]\n",
      "\tRtlGetAppContainerNamedObjectPath [0x0x77d782ae+286]\n",
      "\tRtlGetAppContainerNamedObjectPath [0x0x77d7827e+238]\n",
      "\n",
      "11 reviews | Sentimento: 0.051\n"
     ]
    },
    {
     "name": "stderr",
     "output_type": "stream",
     "text": [
      "Coletando reviews:  34%|███▍      | 34/100 [08:27<13:16, 12.06s/it]"
     ]
    },
    {
     "name": "stdout",
     "output_type": "stream",
     "text": [
      "\n",
      "35. Dream Eater\n",
      "Acessando: https://www.imdb.com/title/tt27861297/reviews/\n",
      "  ⚠️ Botão não encontrado: Message: no such element: Unable to locate element: {\"method\":\"xpath\",\"selector\":\"//button[.//span[text()='Ver tudo']]\"}\n",
      "  (Session info: chrome=141.0.7390.123); For documentation on this error, please visit: https://www.selenium.dev/documentation/webdriver/troubleshooting/errors#nosuchelementexception\n",
      "Stacktrace:\n",
      "\tGetHandleVerifier [0x0x110fe43+66515]\n",
      "\tGetHandleVerifier [0x0x110fe84+66580]\n",
      "\t(No symbol) [0x0xefdc48]\n",
      "\t(No symbol) [0x0xf48704]\n",
      "\t(No symbol) [0x0xf48aab]\n",
      "\t(No symbol) [0x0xf8f482]\n",
      "\t(No symbol) [0x0xf6b214]\n",
      "\t(No symbol) [0x0xf8cba7]\n",
      "\t(No symbol) [0x0xf6afc6]\n",
      "\t(No symbol) [0x0xf3c2ca]\n",
      "\t(No symbol) [0x0xf3d154]\n",
      "\tGetHandleVerifier [0x0x1367353+2521315]\n",
      "\tGetHandleVerifier [0x0x13622d3+2500707]\n",
      "\tGetHandleVerifier [0x0x1137c94+229924]\n",
      "\tGetHandleVerifier [0x0x11281f8+165768]\n",
      "\tGetHandleVerifier [0x0x112ecad+193085]\n",
      "\tGetHandleVerifier [0x0x1118158+100072]\n",
      "\tGetHandleVerifier [0x0x11182f0+100480]\n",
      "\tGetHandleVerifier [0x0x11025aa+11066]\n",
      "\tBaseThreadInitThunk [0x0x770dfcc9+25]\n",
      "\tRtlGetAppContainerNamedObjectPath [0x0x77d782ae+286]\n",
      "\tRtlGetAppContainerNamedObjectPath [0x0x77d7827e+238]\n",
      "\n",
      "8 reviews | Sentimento: 0.608\n"
     ]
    },
    {
     "name": "stderr",
     "output_type": "stream",
     "text": [
      "Coletando reviews:  35%|███▌      | 35/100 [08:36<11:59, 11.07s/it]"
     ]
    },
    {
     "name": "stdout",
     "output_type": "stream",
     "text": [
      "\n",
      "36. Osiris\n",
      "Acessando: https://www.imdb.com/title/tt31179712/reviews/\n",
      "  ✅ Clicou em 'Ver tudo'\n",
      "20 reviews | Sentimento: 0.332\n"
     ]
    },
    {
     "name": "stderr",
     "output_type": "stream",
     "text": [
      "Coletando reviews:  36%|███▌      | 36/100 [08:51<13:08, 12.32s/it]"
     ]
    },
    {
     "name": "stdout",
     "output_type": "stream",
     "text": [
      "\n",
      "37. Halloween Aftermath\n",
      "Acessando: https://www.imdb.com/title/tt25785230/reviews/\n",
      "  ⚠️ Botão não encontrado: Message: no such element: Unable to locate element: {\"method\":\"xpath\",\"selector\":\"//button[.//span[text()='Ver tudo']]\"}\n",
      "  (Session info: chrome=141.0.7390.123); For documentation on this error, please visit: https://www.selenium.dev/documentation/webdriver/troubleshooting/errors#nosuchelementexception\n",
      "Stacktrace:\n",
      "\tGetHandleVerifier [0x0x110fe43+66515]\n",
      "\tGetHandleVerifier [0x0x110fe84+66580]\n",
      "\t(No symbol) [0x0xefdc48]\n",
      "\t(No symbol) [0x0xf48704]\n",
      "\t(No symbol) [0x0xf48aab]\n",
      "\t(No symbol) [0x0xf8f482]\n",
      "\t(No symbol) [0x0xf6b214]\n",
      "\t(No symbol) [0x0xf8cba7]\n",
      "\t(No symbol) [0x0xf6afc6]\n",
      "\t(No symbol) [0x0xf3c2ca]\n",
      "\t(No symbol) [0x0xf3d154]\n",
      "\tGetHandleVerifier [0x0x1367353+2521315]\n",
      "\tGetHandleVerifier [0x0x13622d3+2500707]\n",
      "\tGetHandleVerifier [0x0x1137c94+229924]\n",
      "\tGetHandleVerifier [0x0x11281f8+165768]\n",
      "\tGetHandleVerifier [0x0x112ecad+193085]\n",
      "\tGetHandleVerifier [0x0x1118158+100072]\n",
      "\tGetHandleVerifier [0x0x11182f0+100480]\n",
      "\tGetHandleVerifier [0x0x11025aa+11066]\n",
      "\tBaseThreadInitThunk [0x0x770dfcc9+25]\n",
      "\tRtlGetAppContainerNamedObjectPath [0x0x77d782ae+286]\n",
      "\tRtlGetAppContainerNamedObjectPath [0x0x77d7827e+238]\n",
      "\n",
      "9 reviews | Sentimento: 0.465\n"
     ]
    },
    {
     "name": "stderr",
     "output_type": "stream",
     "text": [
      "Coletando reviews:  37%|███▋      | 37/100 [09:00<11:47, 11.23s/it]"
     ]
    },
    {
     "name": "stdout",
     "output_type": "stream",
     "text": [
      "\n",
      "38. Heart Eyes\n",
      "Acessando: https://www.imdb.com/title/tt32558992/reviews/\n",
      "  ✅ Clicou em 'Ver tudo'\n",
      "20 reviews | Sentimento: 0.797\n"
     ]
    },
    {
     "name": "stderr",
     "output_type": "stream",
     "text": [
      "Coletando reviews:  38%|███▊      | 38/100 [09:16<12:58, 12.56s/it]"
     ]
    },
    {
     "name": "stdout",
     "output_type": "stream",
     "text": [
      "\n",
      "39. Lobisomem\n",
      "Acessando: https://www.imdb.com/title/tt4216984/reviews/\n",
      "  ✅ Clicou em 'Ver tudo'\n",
      "20 reviews | Sentimento: 0.475\n"
     ]
    },
    {
     "name": "stderr",
     "output_type": "stream",
     "text": [
      "Coletando reviews:  39%|███▉      | 39/100 [09:32<13:51, 13.63s/it]"
     ]
    },
    {
     "name": "stdout",
     "output_type": "stream",
     "text": [
      "\n",
      "40. Match\n",
      "Acessando: https://www.imdb.com/title/tt37436190/reviews/\n",
      "  ⚠️ Botão não encontrado: Message: no such element: Unable to locate element: {\"method\":\"xpath\",\"selector\":\"//button[.//span[text()='Ver tudo']]\"}\n",
      "  (Session info: chrome=141.0.7390.123); For documentation on this error, please visit: https://www.selenium.dev/documentation/webdriver/troubleshooting/errors#nosuchelementexception\n",
      "Stacktrace:\n",
      "\tGetHandleVerifier [0x0x110fe43+66515]\n",
      "\tGetHandleVerifier [0x0x110fe84+66580]\n",
      "\t(No symbol) [0x0xefdc48]\n",
      "\t(No symbol) [0x0xf48704]\n",
      "\t(No symbol) [0x0xf48aab]\n",
      "\t(No symbol) [0x0xf8f482]\n",
      "\t(No symbol) [0x0xf6b214]\n",
      "\t(No symbol) [0x0xf8cba7]\n",
      "\t(No symbol) [0x0xf6afc6]\n",
      "\t(No symbol) [0x0xf3c2ca]\n",
      "\t(No symbol) [0x0xf3d154]\n",
      "\tGetHandleVerifier [0x0x1367353+2521315]\n",
      "\tGetHandleVerifier [0x0x13622d3+2500707]\n",
      "\tGetHandleVerifier [0x0x1137c94+229924]\n",
      "\tGetHandleVerifier [0x0x11281f8+165768]\n",
      "\tGetHandleVerifier [0x0x112ecad+193085]\n",
      "\tGetHandleVerifier [0x0x1118158+100072]\n",
      "\tGetHandleVerifier [0x0x11182f0+100480]\n",
      "\tGetHandleVerifier [0x0x11025aa+11066]\n",
      "\tBaseThreadInitThunk [0x0x770dfcc9+25]\n",
      "\tRtlGetAppContainerNamedObjectPath [0x0x77d782ae+286]\n",
      "\tRtlGetAppContainerNamedObjectPath [0x0x77d7827e+238]\n",
      "\n",
      "14 reviews | Sentimento: 0.283\n"
     ]
    },
    {
     "name": "stderr",
     "output_type": "stream",
     "text": [
      "Coletando reviews:  40%|████      | 40/100 [09:41<12:08, 12.15s/it]"
     ]
    },
    {
     "name": "stdout",
     "output_type": "stream",
     "text": [
      "\n",
      "41. A Morte de um Unicórnio\n",
      "Acessando: https://www.imdb.com/title/tt28443655/reviews/\n",
      "  ✅ Clicou em 'Ver tudo'\n",
      "20 reviews | Sentimento: 0.533\n"
     ]
    },
    {
     "name": "stderr",
     "output_type": "stream",
     "text": [
      "Coletando reviews:  41%|████      | 41/100 [09:57<13:03, 13.29s/it]"
     ]
    },
    {
     "name": "stdout",
     "output_type": "stream",
     "text": [
      "\n",
      "42. Night of the Reaper\n",
      "Acessando: https://www.imdb.com/title/tt34379050/reviews/\n",
      "  ✅ Clicou em 'Ver tudo'\n",
      "20 reviews | Sentimento: 0.336\n"
     ]
    },
    {
     "name": "stderr",
     "output_type": "stream",
     "text": [
      "Coletando reviews:  42%|████▏     | 42/100 [10:12<13:32, 14.01s/it]"
     ]
    },
    {
     "name": "stdout",
     "output_type": "stream",
     "text": [
      "\n",
      "43. A Besta do Mar\n",
      "Acessando: https://www.imdb.com/title/tt29468874/reviews/\n",
      "  ⚠️ Botão não encontrado: Message: no such element: Unable to locate element: {\"method\":\"xpath\",\"selector\":\"//button[.//span[text()='Ver tudo']]\"}\n",
      "  (Session info: chrome=141.0.7390.123); For documentation on this error, please visit: https://www.selenium.dev/documentation/webdriver/troubleshooting/errors#nosuchelementexception\n",
      "Stacktrace:\n",
      "\tGetHandleVerifier [0x0x110fe43+66515]\n",
      "\tGetHandleVerifier [0x0x110fe84+66580]\n",
      "\t(No symbol) [0x0xefdc48]\n",
      "\t(No symbol) [0x0xf48704]\n",
      "\t(No symbol) [0x0xf48aab]\n",
      "\t(No symbol) [0x0xf8f482]\n",
      "\t(No symbol) [0x0xf6b214]\n",
      "\t(No symbol) [0x0xf8cba7]\n",
      "\t(No symbol) [0x0xf6afc6]\n",
      "\t(No symbol) [0x0xf3c2ca]\n",
      "\t(No symbol) [0x0xf3d154]\n",
      "\tGetHandleVerifier [0x0x1367353+2521315]\n",
      "\tGetHandleVerifier [0x0x13622d3+2500707]\n",
      "\tGetHandleVerifier [0x0x1137c94+229924]\n",
      "\tGetHandleVerifier [0x0x11281f8+165768]\n",
      "\tGetHandleVerifier [0x0x112ecad+193085]\n",
      "\tGetHandleVerifier [0x0x1118158+100072]\n",
      "\tGetHandleVerifier [0x0x11182f0+100480]\n",
      "\tGetHandleVerifier [0x0x11025aa+11066]\n",
      "\tBaseThreadInitThunk [0x0x770dfcc9+25]\n",
      "\tRtlGetAppContainerNamedObjectPath [0x0x77d782ae+286]\n",
      "\tRtlGetAppContainerNamedObjectPath [0x0x77d7827e+238]\n",
      "\n",
      "18 reviews | Sentimento: 0.513\n"
     ]
    },
    {
     "name": "stderr",
     "output_type": "stream",
     "text": [
      "Coletando reviews:  43%|████▎     | 43/100 [10:21<11:51, 12.48s/it]"
     ]
    },
    {
     "name": "stdout",
     "output_type": "stream",
     "text": [
      "\n",
      "44. Kishkindhapuri\n",
      "Acessando: https://www.imdb.com/title/tt32175880/reviews/\n",
      "  ⚠️ Botão não encontrado: Message: no such element: Unable to locate element: {\"method\":\"xpath\",\"selector\":\"//button[.//span[text()='Ver tudo']]\"}\n",
      "  (Session info: chrome=141.0.7390.123); For documentation on this error, please visit: https://www.selenium.dev/documentation/webdriver/troubleshooting/errors#nosuchelementexception\n",
      "Stacktrace:\n",
      "\tGetHandleVerifier [0x0x110fe43+66515]\n",
      "\tGetHandleVerifier [0x0x110fe84+66580]\n",
      "\t(No symbol) [0x0xefdc48]\n",
      "\t(No symbol) [0x0xf48704]\n",
      "\t(No symbol) [0x0xf48aab]\n",
      "\t(No symbol) [0x0xf8f482]\n",
      "\t(No symbol) [0x0xf6b214]\n",
      "\t(No symbol) [0x0xf8cba7]\n",
      "\t(No symbol) [0x0xf6afc6]\n",
      "\t(No symbol) [0x0xf3c2ca]\n",
      "\t(No symbol) [0x0xf3d154]\n",
      "\tGetHandleVerifier [0x0x1367353+2521315]\n",
      "\tGetHandleVerifier [0x0x13622d3+2500707]\n",
      "\tGetHandleVerifier [0x0x1137c94+229924]\n",
      "\tGetHandleVerifier [0x0x11281f8+165768]\n",
      "\tGetHandleVerifier [0x0x112ecad+193085]\n",
      "\tGetHandleVerifier [0x0x1118158+100072]\n",
      "\tGetHandleVerifier [0x0x11182f0+100480]\n",
      "\tGetHandleVerifier [0x0x11025aa+11066]\n",
      "\tBaseThreadInitThunk [0x0x770dfcc9+25]\n",
      "\tRtlGetAppContainerNamedObjectPath [0x0x77d782ae+286]\n",
      "\tRtlGetAppContainerNamedObjectPath [0x0x77d7827e+238]\n",
      "\n",
      "14 reviews | Sentimento: 0.292\n"
     ]
    },
    {
     "name": "stderr",
     "output_type": "stream",
     "text": [
      "Coletando reviews:  44%|████▍     | 44/100 [10:30<10:40, 11.44s/it]"
     ]
    },
    {
     "name": "stdout",
     "output_type": "stream",
     "text": [
      "\n",
      "45. O Palhaço no Milharal\n",
      "Acessando: https://www.imdb.com/title/tt23060698/reviews/\n",
      "  ✅ Clicou em 'Ver tudo'\n",
      "20 reviews | Sentimento: 0.616\n"
     ]
    },
    {
     "name": "stderr",
     "output_type": "stream",
     "text": [
      "Coletando reviews:  45%|████▌     | 45/100 [10:46<11:45, 12.84s/it]"
     ]
    },
    {
     "name": "stdout",
     "output_type": "stream",
     "text": [
      "\n",
      "46. Queens of the Dead\n",
      "Acessando: https://www.imdb.com/title/tt32986431/reviews/\n",
      "  ⚠️ Botão não encontrado: Message: no such element: Unable to locate element: {\"method\":\"xpath\",\"selector\":\"//button[.//span[text()='Ver tudo']]\"}\n",
      "  (Session info: chrome=141.0.7390.123); For documentation on this error, please visit: https://www.selenium.dev/documentation/webdriver/troubleshooting/errors#nosuchelementexception\n",
      "Stacktrace:\n",
      "\tGetHandleVerifier [0x0x110fe43+66515]\n",
      "\tGetHandleVerifier [0x0x110fe84+66580]\n",
      "\t(No symbol) [0x0xefdc48]\n",
      "\t(No symbol) [0x0xf48704]\n",
      "\t(No symbol) [0x0xf48aab]\n",
      "\t(No symbol) [0x0xf8f482]\n",
      "\t(No symbol) [0x0xf6b214]\n",
      "\t(No symbol) [0x0xf8cba7]\n",
      "\t(No symbol) [0x0xf6afc6]\n",
      "\t(No symbol) [0x0xf3c2ca]\n",
      "\t(No symbol) [0x0xf3d154]\n",
      "\tGetHandleVerifier [0x0x1367353+2521315]\n",
      "\tGetHandleVerifier [0x0x13622d3+2500707]\n",
      "\tGetHandleVerifier [0x0x1137c94+229924]\n",
      "\tGetHandleVerifier [0x0x11281f8+165768]\n",
      "\tGetHandleVerifier [0x0x112ecad+193085]\n",
      "\tGetHandleVerifier [0x0x1118158+100072]\n",
      "\tGetHandleVerifier [0x0x11182f0+100480]\n",
      "\tGetHandleVerifier [0x0x11025aa+11066]\n",
      "\tBaseThreadInitThunk [0x0x770dfcc9+25]\n",
      "\tRtlGetAppContainerNamedObjectPath [0x0x77d782ae+286]\n",
      "\tRtlGetAppContainerNamedObjectPath [0x0x77d7827e+238]\n",
      "\n",
      "6 reviews | Sentimento: 0.546\n"
     ]
    },
    {
     "name": "stderr",
     "output_type": "stream",
     "text": [
      "Coletando reviews:  46%|████▌     | 46/100 [10:55<10:27, 11.62s/it]"
     ]
    },
    {
     "name": "stdout",
     "output_type": "stream",
     "text": [
      "\n",
      "47. Frankie e os Monstros\n",
      "Acessando: https://www.imdb.com/title/tt26720001/reviews/\n",
      "  ⚠️ Botão não encontrado: Message: no such element: Unable to locate element: {\"method\":\"xpath\",\"selector\":\"//button[.//span[text()='Ver tudo']]\"}\n",
      "  (Session info: chrome=141.0.7390.123); For documentation on this error, please visit: https://www.selenium.dev/documentation/webdriver/troubleshooting/errors#nosuchelementexception\n",
      "Stacktrace:\n",
      "\tGetHandleVerifier [0x0x110fe43+66515]\n",
      "\tGetHandleVerifier [0x0x110fe84+66580]\n",
      "\t(No symbol) [0x0xefdc48]\n",
      "\t(No symbol) [0x0xf48704]\n",
      "\t(No symbol) [0x0xf48aab]\n",
      "\t(No symbol) [0x0xf8f482]\n",
      "\t(No symbol) [0x0xf6b214]\n",
      "\t(No symbol) [0x0xf8cba7]\n",
      "\t(No symbol) [0x0xf6afc6]\n",
      "\t(No symbol) [0x0xf3c2ca]\n",
      "\t(No symbol) [0x0xf3d154]\n",
      "\tGetHandleVerifier [0x0x1367353+2521315]\n",
      "\tGetHandleVerifier [0x0x13622d3+2500707]\n",
      "\tGetHandleVerifier [0x0x1137c94+229924]\n",
      "\tGetHandleVerifier [0x0x11281f8+165768]\n",
      "\tGetHandleVerifier [0x0x112ecad+193085]\n",
      "\tGetHandleVerifier [0x0x1118158+100072]\n",
      "\tGetHandleVerifier [0x0x11182f0+100480]\n",
      "\tGetHandleVerifier [0x0x11025aa+11066]\n",
      "\tBaseThreadInitThunk [0x0x770dfcc9+25]\n",
      "\tRtlGetAppContainerNamedObjectPath [0x0x77d782ae+286]\n",
      "\tRtlGetAppContainerNamedObjectPath [0x0x77d7827e+238]\n",
      "\n",
      "8 reviews | Sentimento: 0.528\n"
     ]
    },
    {
     "name": "stderr",
     "output_type": "stream",
     "text": [
      "Coletando reviews:  47%|████▋     | 47/100 [11:04<09:29, 10.75s/it]"
     ]
    },
    {
     "name": "stdout",
     "output_type": "stream",
     "text": [
      "\n",
      "48. A Mulher no Jardim\n",
      "Acessando: https://www.imdb.com/title/tt31314296/reviews/\n",
      "  ✅ Clicou em 'Ver tudo'\n",
      "20 reviews | Sentimento: 0.463\n"
     ]
    },
    {
     "name": "stderr",
     "output_type": "stream",
     "text": [
      "Coletando reviews:  48%|████▊     | 48/100 [11:20<10:52, 12.54s/it]"
     ]
    },
    {
     "name": "stdout",
     "output_type": "stream",
     "text": [
      "\n",
      "49. A Noite dos Palhaços\n",
      "Acessando: https://www.imdb.com/title/tt31065246/reviews/\n",
      "  ⚠️ Botão não encontrado: Message: no such element: Unable to locate element: {\"method\":\"xpath\",\"selector\":\"//button[.//span[text()='Ver tudo']]\"}\n",
      "  (Session info: chrome=141.0.7390.123); For documentation on this error, please visit: https://www.selenium.dev/documentation/webdriver/troubleshooting/errors#nosuchelementexception\n",
      "Stacktrace:\n",
      "\tGetHandleVerifier [0x0x110fe43+66515]\n",
      "\tGetHandleVerifier [0x0x110fe84+66580]\n",
      "\t(No symbol) [0x0xefdc48]\n",
      "\t(No symbol) [0x0xf48704]\n",
      "\t(No symbol) [0x0xf48aab]\n",
      "\t(No symbol) [0x0xf8f482]\n",
      "\t(No symbol) [0x0xf6b214]\n",
      "\t(No symbol) [0x0xf8cba7]\n",
      "\t(No symbol) [0x0xf6afc6]\n",
      "\t(No symbol) [0x0xf3c2ca]\n",
      "\t(No symbol) [0x0xf3d154]\n",
      "\tGetHandleVerifier [0x0x1367353+2521315]\n",
      "\tGetHandleVerifier [0x0x13622d3+2500707]\n",
      "\tGetHandleVerifier [0x0x1137c94+229924]\n",
      "\tGetHandleVerifier [0x0x11281f8+165768]\n",
      "\tGetHandleVerifier [0x0x112ecad+193085]\n",
      "\tGetHandleVerifier [0x0x1118158+100072]\n",
      "\tGetHandleVerifier [0x0x11182f0+100480]\n",
      "\tGetHandleVerifier [0x0x11025aa+11066]\n",
      "\tBaseThreadInitThunk [0x0x770dfcc9+25]\n",
      "\tRtlGetAppContainerNamedObjectPath [0x0x77d782ae+286]\n",
      "\tRtlGetAppContainerNamedObjectPath [0x0x77d7827e+238]\n",
      "\n",
      "9 reviews | Sentimento: 0.416\n"
     ]
    },
    {
     "name": "stderr",
     "output_type": "stream",
     "text": [
      "Coletando reviews:  49%|████▉     | 49/100 [11:29<09:38, 11.35s/it]"
     ]
    },
    {
     "name": "stdout",
     "output_type": "stream",
     "text": [
      "\n",
      "50. The Exit 8\n",
      "Acessando: https://www.imdb.com/title/tt35222590/reviews/\n",
      "  ✅ Clicou em 'Ver tudo'\n",
      "20 reviews | Sentimento: 0.496\n"
     ]
    },
    {
     "name": "stderr",
     "output_type": "stream",
     "text": [
      "Coletando reviews:  50%|█████     | 50/100 [11:44<10:21, 12.42s/it]"
     ]
    },
    {
     "name": "stdout",
     "output_type": "stream",
     "text": [
      "\n",
      "51. Sombras no Deserto\n",
      "Acessando: https://www.imdb.com/title/tt32304349/reviews/\n",
      "  ⚠️ Botão não encontrado: Message: no such element: Unable to locate element: {\"method\":\"xpath\",\"selector\":\"//button[.//span[text()='Ver tudo']]\"}\n",
      "  (Session info: chrome=141.0.7390.123); For documentation on this error, please visit: https://www.selenium.dev/documentation/webdriver/troubleshooting/errors#nosuchelementexception\n",
      "Stacktrace:\n",
      "\tGetHandleVerifier [0x0x110fe43+66515]\n",
      "\tGetHandleVerifier [0x0x110fe84+66580]\n",
      "\t(No symbol) [0x0xefdc48]\n",
      "\t(No symbol) [0x0xf48704]\n",
      "\t(No symbol) [0x0xf48aab]\n",
      "\t(No symbol) [0x0xf8f482]\n",
      "\t(No symbol) [0x0xf6b214]\n",
      "\t(No symbol) [0x0xf8cba7]\n",
      "\t(No symbol) [0x0xf6afc6]\n",
      "\t(No symbol) [0x0xf3c2ca]\n",
      "\t(No symbol) [0x0xf3d154]\n",
      "\tGetHandleVerifier [0x0x1367353+2521315]\n",
      "\tGetHandleVerifier [0x0x13622d3+2500707]\n",
      "\tGetHandleVerifier [0x0x1137c94+229924]\n",
      "\tGetHandleVerifier [0x0x11281f8+165768]\n",
      "\tGetHandleVerifier [0x0x112ecad+193085]\n",
      "\tGetHandleVerifier [0x0x1118158+100072]\n",
      "\tGetHandleVerifier [0x0x11182f0+100480]\n",
      "\tGetHandleVerifier [0x0x11025aa+11066]\n",
      "\tBaseThreadInitThunk [0x0x770dfcc9+25]\n",
      "\tRtlGetAppContainerNamedObjectPath [0x0x77d782ae+286]\n",
      "\tRtlGetAppContainerNamedObjectPath [0x0x77d7827e+238]\n",
      "\n",
      "Nenhuma review encontrada\n"
     ]
    },
    {
     "name": "stderr",
     "output_type": "stream",
     "text": [
      "Coletando reviews:  51%|█████     | 51/100 [11:52<09:10, 11.23s/it]"
     ]
    },
    {
     "name": "stdout",
     "output_type": "stream",
     "text": [
      "\n",
      "52. Guerra dos Mundos\n",
      "Acessando: https://www.imdb.com/title/tt13186306/reviews/\n",
      "  ✅ Clicou em 'Ver tudo'\n",
      "20 reviews | Sentimento: -0.130\n"
     ]
    },
    {
     "name": "stderr",
     "output_type": "stream",
     "text": [
      "Coletando reviews:  52%|█████▏    | 52/100 [12:09<10:17, 12.86s/it]"
     ]
    },
    {
     "name": "stdout",
     "output_type": "stream",
     "text": [
      "\n",
      "53. Asilo maligno\n",
      "Acessando: https://www.imdb.com/title/tt17023012/reviews/\n",
      "  ✅ Clicou em 'Ver tudo'\n",
      "20 reviews | Sentimento: 0.463\n"
     ]
    },
    {
     "name": "stderr",
     "output_type": "stream",
     "text": [
      "Coletando reviews:  53%|█████▎    | 53/100 [12:24<10:35, 13.51s/it]"
     ]
    },
    {
     "name": "stdout",
     "output_type": "stream",
     "text": [
      "\n",
      "54. Soy Frankelda\n",
      "Acessando: https://www.imdb.com/title/tt36639986/reviews/\n",
      "  ⚠️ Botão não encontrado: Message: no such element: Unable to locate element: {\"method\":\"xpath\",\"selector\":\"//button[.//span[text()='Ver tudo']]\"}\n",
      "  (Session info: chrome=141.0.7390.123); For documentation on this error, please visit: https://www.selenium.dev/documentation/webdriver/troubleshooting/errors#nosuchelementexception\n",
      "Stacktrace:\n",
      "\tGetHandleVerifier [0x0x110fe43+66515]\n",
      "\tGetHandleVerifier [0x0x110fe84+66580]\n",
      "\t(No symbol) [0x0xefdc48]\n",
      "\t(No symbol) [0x0xf48704]\n",
      "\t(No symbol) [0x0xf48aab]\n",
      "\t(No symbol) [0x0xf8f482]\n",
      "\t(No symbol) [0x0xf6b214]\n",
      "\t(No symbol) [0x0xf8cba7]\n",
      "\t(No symbol) [0x0xf6afc6]\n",
      "\t(No symbol) [0x0xf3c2ca]\n",
      "\t(No symbol) [0x0xf3d154]\n",
      "\tGetHandleVerifier [0x0x1367353+2521315]\n",
      "\tGetHandleVerifier [0x0x13622d3+2500707]\n",
      "\tGetHandleVerifier [0x0x1137c94+229924]\n",
      "\tGetHandleVerifier [0x0x11281f8+165768]\n",
      "\tGetHandleVerifier [0x0x112ecad+193085]\n",
      "\tGetHandleVerifier [0x0x1118158+100072]\n",
      "\tGetHandleVerifier [0x0x11182f0+100480]\n",
      "\tGetHandleVerifier [0x0x11025aa+11066]\n",
      "\tBaseThreadInitThunk [0x0x770dfcc9+25]\n",
      "\tRtlGetAppContainerNamedObjectPath [0x0x77d782ae+286]\n",
      "\tRtlGetAppContainerNamedObjectPath [0x0x77d7827e+238]\n",
      "\n",
      "3 reviews | Sentimento: 0.987\n"
     ]
    },
    {
     "name": "stderr",
     "output_type": "stream",
     "text": [
      "Coletando reviews:  54%|█████▍    | 54/100 [12:32<09:08, 11.93s/it]"
     ]
    },
    {
     "name": "stdout",
     "output_type": "stream",
     "text": [
      "\n",
      "55. Dust Bunny\n",
      "Acessando: https://www.imdb.com/title/tt23172090/reviews/\n",
      "  ⚠️ Botão não encontrado: Message: no such element: Unable to locate element: {\"method\":\"xpath\",\"selector\":\"//button[.//span[text()='Ver tudo']]\"}\n",
      "  (Session info: chrome=141.0.7390.123); For documentation on this error, please visit: https://www.selenium.dev/documentation/webdriver/troubleshooting/errors#nosuchelementexception\n",
      "Stacktrace:\n",
      "\tGetHandleVerifier [0x0x110fe43+66515]\n",
      "\tGetHandleVerifier [0x0x110fe84+66580]\n",
      "\t(No symbol) [0x0xefdc48]\n",
      "\t(No symbol) [0x0xf48704]\n",
      "\t(No symbol) [0x0xf48aab]\n",
      "\t(No symbol) [0x0xf8f482]\n",
      "\t(No symbol) [0x0xf6b214]\n",
      "\t(No symbol) [0x0xf8cba7]\n",
      "\t(No symbol) [0x0xf6afc6]\n",
      "\t(No symbol) [0x0xf3c2ca]\n",
      "\t(No symbol) [0x0xf3d154]\n",
      "\tGetHandleVerifier [0x0x1367353+2521315]\n",
      "\tGetHandleVerifier [0x0x13622d3+2500707]\n",
      "\tGetHandleVerifier [0x0x1137c94+229924]\n",
      "\tGetHandleVerifier [0x0x11281f8+165768]\n",
      "\tGetHandleVerifier [0x0x112ecad+193085]\n",
      "\tGetHandleVerifier [0x0x1118158+100072]\n",
      "\tGetHandleVerifier [0x0x11182f0+100480]\n",
      "\tGetHandleVerifier [0x0x11025aa+11066]\n",
      "\tBaseThreadInitThunk [0x0x770dfcc9+25]\n",
      "\tRtlGetAppContainerNamedObjectPath [0x0x77d782ae+286]\n",
      "\tRtlGetAppContainerNamedObjectPath [0x0x77d7827e+238]\n",
      "\n",
      "2 reviews | Sentimento: 0.941\n"
     ]
    },
    {
     "name": "stderr",
     "output_type": "stream",
     "text": [
      "Coletando reviews:  55%|█████▌    | 55/100 [12:44<08:52, 11.82s/it]"
     ]
    },
    {
     "name": "stdout",
     "output_type": "stream",
     "text": [
      "\n",
      "56. O Manequim\n",
      "Acessando: https://www.imdb.com/title/tt11261532/reviews/\n",
      "  ⚠️ Botão não encontrado: Message: no such element: Unable to locate element: {\"method\":\"xpath\",\"selector\":\"//button[.//span[text()='Ver tudo']]\"}\n",
      "  (Session info: chrome=141.0.7390.123); For documentation on this error, please visit: https://www.selenium.dev/documentation/webdriver/troubleshooting/errors#nosuchelementexception\n",
      "Stacktrace:\n",
      "\tGetHandleVerifier [0x0x110fe43+66515]\n",
      "\tGetHandleVerifier [0x0x110fe84+66580]\n",
      "\t(No symbol) [0x0xefdc48]\n",
      "\t(No symbol) [0x0xf48704]\n",
      "\t(No symbol) [0x0xf48aab]\n",
      "\t(No symbol) [0x0xf8f482]\n",
      "\t(No symbol) [0x0xf6b214]\n",
      "\t(No symbol) [0x0xf8cba7]\n",
      "\t(No symbol) [0x0xf6afc6]\n",
      "\t(No symbol) [0x0xf3c2ca]\n",
      "\t(No symbol) [0x0xf3d154]\n",
      "\tGetHandleVerifier [0x0x1367353+2521315]\n",
      "\tGetHandleVerifier [0x0x13622d3+2500707]\n",
      "\tGetHandleVerifier [0x0x1137c94+229924]\n",
      "\tGetHandleVerifier [0x0x11281f8+165768]\n",
      "\tGetHandleVerifier [0x0x112ecad+193085]\n",
      "\tGetHandleVerifier [0x0x1118158+100072]\n",
      "\tGetHandleVerifier [0x0x11182f0+100480]\n",
      "\tGetHandleVerifier [0x0x11025aa+11066]\n",
      "\tBaseThreadInitThunk [0x0x770dfcc9+25]\n",
      "\tRtlGetAppContainerNamedObjectPath [0x0x77d782ae+286]\n",
      "\tRtlGetAppContainerNamedObjectPath [0x0x77d7827e+238]\n",
      "\n",
      "7 reviews | Sentimento: 0.489\n"
     ]
    },
    {
     "name": "stderr",
     "output_type": "stream",
     "text": [
      "Coletando reviews:  56%|█████▌    | 56/100 [12:53<08:03, 10.98s/it]"
     ]
    },
    {
     "name": "stdout",
     "output_type": "stream",
     "text": [
      "\n",
      "57. The Jester 2\n",
      "Acessando: https://www.imdb.com/title/tt37334010/reviews/\n",
      "  ⚠️ Botão não encontrado: Message: no such element: Unable to locate element: {\"method\":\"xpath\",\"selector\":\"//button[.//span[text()='Ver tudo']]\"}\n",
      "  (Session info: chrome=141.0.7390.123); For documentation on this error, please visit: https://www.selenium.dev/documentation/webdriver/troubleshooting/errors#nosuchelementexception\n",
      "Stacktrace:\n",
      "\tGetHandleVerifier [0x0x110fe43+66515]\n",
      "\tGetHandleVerifier [0x0x110fe84+66580]\n",
      "\t(No symbol) [0x0xefdc48]\n",
      "\t(No symbol) [0x0xf48704]\n",
      "\t(No symbol) [0x0xf48aab]\n",
      "\t(No symbol) [0x0xf8f482]\n",
      "\t(No symbol) [0x0xf6b214]\n",
      "\t(No symbol) [0x0xf8cba7]\n",
      "\t(No symbol) [0x0xf6afc6]\n",
      "\t(No symbol) [0x0xf3c2ca]\n",
      "\t(No symbol) [0x0xf3d154]\n",
      "\tGetHandleVerifier [0x0x1367353+2521315]\n",
      "\tGetHandleVerifier [0x0x13622d3+2500707]\n",
      "\tGetHandleVerifier [0x0x1137c94+229924]\n",
      "\tGetHandleVerifier [0x0x11281f8+165768]\n",
      "\tGetHandleVerifier [0x0x112ecad+193085]\n",
      "\tGetHandleVerifier [0x0x1118158+100072]\n",
      "\tGetHandleVerifier [0x0x11182f0+100480]\n",
      "\tGetHandleVerifier [0x0x11025aa+11066]\n",
      "\tBaseThreadInitThunk [0x0x770dfcc9+25]\n",
      "\tRtlGetAppContainerNamedObjectPath [0x0x77d782ae+286]\n",
      "\tRtlGetAppContainerNamedObjectPath [0x0x77d7827e+238]\n",
      "\n",
      "12 reviews | Sentimento: 0.481\n"
     ]
    },
    {
     "name": "stderr",
     "output_type": "stream",
     "text": [
      "Coletando reviews:  57%|█████▋    | 57/100 [13:02<07:24, 10.33s/it]"
     ]
    },
    {
     "name": "stdout",
     "output_type": "stream",
     "text": [
      "\n",
      "58. Rua do Medo: Rainha do Baile\n",
      "Acessando: https://www.imdb.com/title/tt31433402/reviews/\n",
      "  ✅ Clicou em 'Ver tudo'\n",
      "20 reviews | Sentimento: 0.013\n"
     ]
    },
    {
     "name": "stderr",
     "output_type": "stream",
     "text": [
      "Coletando reviews:  58%|█████▊    | 58/100 [13:17<08:18, 11.86s/it]"
     ]
    },
    {
     "name": "stdout",
     "output_type": "stream",
     "text": [
      "\n",
      "59. Criatura Voraz\n",
      "Acessando: https://www.imdb.com/title/tt28230296/reviews/\n",
      "  ✅ Clicou em 'Ver tudo'\n",
      "20 reviews | Sentimento: 0.495\n"
     ]
    },
    {
     "name": "stderr",
     "output_type": "stream",
     "text": [
      "Coletando reviews:  59%|█████▉    | 59/100 [13:33<08:50, 12.95s/it]"
     ]
    },
    {
     "name": "stdout",
     "output_type": "stream",
     "text": [
      "\n",
      "60. Natal Sangrento\n",
      "Acessando: https://www.imdb.com/title/tt34508974/reviews/\n",
      "  ⚠️ Botão não encontrado: Message: no such element: Unable to locate element: {\"method\":\"xpath\",\"selector\":\"//button[.//span[text()='Ver tudo']]\"}\n",
      "  (Session info: chrome=141.0.7390.123); For documentation on this error, please visit: https://www.selenium.dev/documentation/webdriver/troubleshooting/errors#nosuchelementexception\n",
      "Stacktrace:\n",
      "\tGetHandleVerifier [0x0x110fe43+66515]\n",
      "\tGetHandleVerifier [0x0x110fe84+66580]\n",
      "\t(No symbol) [0x0xefdc48]\n",
      "\t(No symbol) [0x0xf48704]\n",
      "\t(No symbol) [0x0xf48aab]\n",
      "\t(No symbol) [0x0xf8f482]\n",
      "\t(No symbol) [0x0xf6b214]\n",
      "\t(No symbol) [0x0xf8cba7]\n",
      "\t(No symbol) [0x0xf6afc6]\n",
      "\t(No symbol) [0x0xf3c2ca]\n",
      "\t(No symbol) [0x0xf3d154]\n",
      "\tGetHandleVerifier [0x0x1367353+2521315]\n",
      "\tGetHandleVerifier [0x0x13622d3+2500707]\n",
      "\tGetHandleVerifier [0x0x1137c94+229924]\n",
      "\tGetHandleVerifier [0x0x11281f8+165768]\n",
      "\tGetHandleVerifier [0x0x112ecad+193085]\n",
      "\tGetHandleVerifier [0x0x1118158+100072]\n",
      "\tGetHandleVerifier [0x0x11182f0+100480]\n",
      "\tGetHandleVerifier [0x0x11025aa+11066]\n",
      "\tBaseThreadInitThunk [0x0x770dfcc9+25]\n",
      "\tRtlGetAppContainerNamedObjectPath [0x0x77d782ae+286]\n",
      "\tRtlGetAppContainerNamedObjectPath [0x0x77d7827e+238]\n",
      "\n",
      "Nenhuma review encontrada\n"
     ]
    },
    {
     "name": "stderr",
     "output_type": "stream",
     "text": [
      "Coletando reviews:  60%|██████    | 60/100 [13:42<07:50, 11.76s/it]"
     ]
    },
    {
     "name": "stdout",
     "output_type": "stream",
     "text": [
      "\n",
      "61. Host\n",
      "Acessando: https://www.imdb.com/title/tt38624355/reviews/\n",
      "  ⚠️ Botão não encontrado: Message: no such element: Unable to locate element: {\"method\":\"xpath\",\"selector\":\"//button[.//span[text()='Ver tudo']]\"}\n",
      "  (Session info: chrome=141.0.7390.123); For documentation on this error, please visit: https://www.selenium.dev/documentation/webdriver/troubleshooting/errors#nosuchelementexception\n",
      "Stacktrace:\n",
      "\tGetHandleVerifier [0x0x110fe43+66515]\n",
      "\tGetHandleVerifier [0x0x110fe84+66580]\n",
      "\t(No symbol) [0x0xefdc48]\n",
      "\t(No symbol) [0x0xf48704]\n",
      "\t(No symbol) [0x0xf48aab]\n",
      "\t(No symbol) [0x0xf8f482]\n",
      "\t(No symbol) [0x0xf6b214]\n",
      "\t(No symbol) [0x0xf8cba7]\n",
      "\t(No symbol) [0x0xf6afc6]\n",
      "\t(No symbol) [0x0xf3c2ca]\n",
      "\t(No symbol) [0x0xf3d154]\n",
      "\tGetHandleVerifier [0x0x1367353+2521315]\n",
      "\tGetHandleVerifier [0x0x13622d3+2500707]\n",
      "\tGetHandleVerifier [0x0x1137c94+229924]\n",
      "\tGetHandleVerifier [0x0x11281f8+165768]\n",
      "\tGetHandleVerifier [0x0x112ecad+193085]\n",
      "\tGetHandleVerifier [0x0x1118158+100072]\n",
      "\tGetHandleVerifier [0x0x11182f0+100480]\n",
      "\tGetHandleVerifier [0x0x11025aa+11066]\n",
      "\tBaseThreadInitThunk [0x0x770dfcc9+25]\n",
      "\tRtlGetAppContainerNamedObjectPath [0x0x77d782ae+286]\n",
      "\tRtlGetAppContainerNamedObjectPath [0x0x77d7827e+238]\n",
      "\n",
      "3 reviews | Sentimento: 0.941\n"
     ]
    },
    {
     "name": "stderr",
     "output_type": "stream",
     "text": [
      "Coletando reviews:  61%|██████    | 61/100 [13:50<07:03, 10.85s/it]"
     ]
    },
    {
     "name": "stdout",
     "output_type": "stream",
     "text": [
      "\n",
      "62. Hell House LLC: A Herança\n",
      "Acessando: https://www.imdb.com/title/tt32916228/reviews/\n",
      "  ⚠️ Botão não encontrado: Message: no such element: Unable to locate element: {\"method\":\"xpath\",\"selector\":\"//button[.//span[text()='Ver tudo']]\"}\n",
      "  (Session info: chrome=141.0.7390.123); For documentation on this error, please visit: https://www.selenium.dev/documentation/webdriver/troubleshooting/errors#nosuchelementexception\n",
      "Stacktrace:\n",
      "\tGetHandleVerifier [0x0x110fe43+66515]\n",
      "\tGetHandleVerifier [0x0x110fe84+66580]\n",
      "\t(No symbol) [0x0xefdc48]\n",
      "\t(No symbol) [0x0xf48704]\n",
      "\t(No symbol) [0x0xf48aab]\n",
      "\t(No symbol) [0x0xf8f482]\n",
      "\t(No symbol) [0x0xf6b214]\n",
      "\t(No symbol) [0x0xf8cba7]\n",
      "\t(No symbol) [0x0xf6afc6]\n",
      "\t(No symbol) [0x0xf3c2ca]\n",
      "\t(No symbol) [0x0xf3d154]\n",
      "\tGetHandleVerifier [0x0x1367353+2521315]\n",
      "\tGetHandleVerifier [0x0x13622d3+2500707]\n",
      "\tGetHandleVerifier [0x0x1137c94+229924]\n",
      "\tGetHandleVerifier [0x0x11281f8+165768]\n",
      "\tGetHandleVerifier [0x0x112ecad+193085]\n",
      "\tGetHandleVerifier [0x0x1118158+100072]\n",
      "\tGetHandleVerifier [0x0x11182f0+100480]\n",
      "\tGetHandleVerifier [0x0x11025aa+11066]\n",
      "\tBaseThreadInitThunk [0x0x770dfcc9+25]\n",
      "\tRtlGetAppContainerNamedObjectPath [0x0x77d782ae+286]\n",
      "\tRtlGetAppContainerNamedObjectPath [0x0x77d7827e+238]\n",
      "\n",
      "20 reviews | Sentimento: 0.087\n"
     ]
    },
    {
     "name": "stderr",
     "output_type": "stream",
     "text": [
      "Coletando reviews:  62%|██████▏   | 62/100 [14:00<06:35, 10.40s/it]"
     ]
    },
    {
     "name": "stdout",
     "output_type": "stream",
     "text": [
      "\n",
      "63. Bambi: O Acerto de Contas\n",
      "Acessando: https://www.imdb.com/title/tt23621682/reviews/\n",
      "  ✅ Clicou em 'Ver tudo'\n",
      "20 reviews | Sentimento: 0.700\n"
     ]
    },
    {
     "name": "stderr",
     "output_type": "stream",
     "text": [
      "Coletando reviews:  63%|██████▎   | 63/100 [14:15<07:16, 11.80s/it]"
     ]
    },
    {
     "name": "stdout",
     "output_type": "stream",
     "text": [
      "\n",
      "64. Kill Me Again\n",
      "Acessando: https://www.imdb.com/title/tt30332302/reviews/\n",
      "  ✅ Clicou em 'Ver tudo'\n",
      "20 reviews | Sentimento: 0.353\n"
     ]
    },
    {
     "name": "stderr",
     "output_type": "stream",
     "text": [
      "Coletando reviews:  64%|██████▍   | 64/100 [14:30<07:40, 12.78s/it]"
     ]
    },
    {
     "name": "stdout",
     "output_type": "stream",
     "text": [
      "\n",
      "65. Hallow Road\n",
      "Acessando: https://www.imdb.com/title/tt19403516/reviews/\n",
      "  ✅ Clicou em 'Ver tudo'\n",
      "20 reviews | Sentimento: 0.564\n"
     ]
    },
    {
     "name": "stderr",
     "output_type": "stream",
     "text": [
      "Coletando reviews:  65%|██████▌   | 65/100 [14:45<07:55, 13.60s/it]"
     ]
    },
    {
     "name": "stdout",
     "output_type": "stream",
     "text": [
      "\n",
      "66. Glamping\n",
      "Acessando: https://www.imdb.com/title/tt38066434/reviews/\n",
      "  ⚠️ Botão não encontrado: Message: no such element: Unable to locate element: {\"method\":\"xpath\",\"selector\":\"//button[.//span[text()='Ver tudo']]\"}\n",
      "  (Session info: chrome=141.0.7390.123); For documentation on this error, please visit: https://www.selenium.dev/documentation/webdriver/troubleshooting/errors#nosuchelementexception\n",
      "Stacktrace:\n",
      "\tGetHandleVerifier [0x0x110fe43+66515]\n",
      "\tGetHandleVerifier [0x0x110fe84+66580]\n",
      "\t(No symbol) [0x0xefdc48]\n",
      "\t(No symbol) [0x0xf48704]\n",
      "\t(No symbol) [0x0xf48aab]\n",
      "\t(No symbol) [0x0xf8f482]\n",
      "\t(No symbol) [0x0xf6b214]\n",
      "\t(No symbol) [0x0xf8cba7]\n",
      "\t(No symbol) [0x0xf6afc6]\n",
      "\t(No symbol) [0x0xf3c2ca]\n",
      "\t(No symbol) [0x0xf3d154]\n",
      "\tGetHandleVerifier [0x0x1367353+2521315]\n",
      "\tGetHandleVerifier [0x0x13622d3+2500707]\n",
      "\tGetHandleVerifier [0x0x1137c94+229924]\n",
      "\tGetHandleVerifier [0x0x11281f8+165768]\n",
      "\tGetHandleVerifier [0x0x112ecad+193085]\n",
      "\tGetHandleVerifier [0x0x1118158+100072]\n",
      "\tGetHandleVerifier [0x0x11182f0+100480]\n",
      "\tGetHandleVerifier [0x0x11025aa+11066]\n",
      "\tBaseThreadInitThunk [0x0x770dfcc9+25]\n",
      "\tRtlGetAppContainerNamedObjectPath [0x0x77d782ae+286]\n",
      "\tRtlGetAppContainerNamedObjectPath [0x0x77d7827e+238]\n",
      "\n",
      "4 reviews | Sentimento: 0.982\n"
     ]
    },
    {
     "name": "stderr",
     "output_type": "stream",
     "text": [
      "Coletando reviews:  66%|██████▌   | 66/100 [14:54<06:51, 12.10s/it]"
     ]
    },
    {
     "name": "stdout",
     "output_type": "stream",
     "text": [
      "\n",
      "67. Alpha\n",
      "Acessando: https://www.imdb.com/title/tt32275943/reviews/\n",
      "  ⚠️ Botão não encontrado: Message: no such element: Unable to locate element: {\"method\":\"xpath\",\"selector\":\"//button[.//span[text()='Ver tudo']]\"}\n",
      "  (Session info: chrome=141.0.7390.123); For documentation on this error, please visit: https://www.selenium.dev/documentation/webdriver/troubleshooting/errors#nosuchelementexception\n",
      "Stacktrace:\n",
      "\tGetHandleVerifier [0x0x110fe43+66515]\n",
      "\tGetHandleVerifier [0x0x110fe84+66580]\n",
      "\t(No symbol) [0x0xefdc48]\n",
      "\t(No symbol) [0x0xf48704]\n",
      "\t(No symbol) [0x0xf48aab]\n",
      "\t(No symbol) [0x0xf8f482]\n",
      "\t(No symbol) [0x0xf6b214]\n",
      "\t(No symbol) [0x0xf8cba7]\n",
      "\t(No symbol) [0x0xf6afc6]\n",
      "\t(No symbol) [0x0xf3c2ca]\n",
      "\t(No symbol) [0x0xf3d154]\n",
      "\tGetHandleVerifier [0x0x1367353+2521315]\n",
      "\tGetHandleVerifier [0x0x13622d3+2500707]\n",
      "\tGetHandleVerifier [0x0x1137c94+229924]\n",
      "\tGetHandleVerifier [0x0x11281f8+165768]\n",
      "\tGetHandleVerifier [0x0x112ecad+193085]\n",
      "\tGetHandleVerifier [0x0x1118158+100072]\n",
      "\tGetHandleVerifier [0x0x11182f0+100480]\n",
      "\tGetHandleVerifier [0x0x11025aa+11066]\n",
      "\tBaseThreadInitThunk [0x0x770dfcc9+25]\n",
      "\tRtlGetAppContainerNamedObjectPath [0x0x77d782ae+286]\n",
      "\tRtlGetAppContainerNamedObjectPath [0x0x77d7827e+238]\n",
      "\n",
      "5 reviews | Sentimento: 0.634\n"
     ]
    },
    {
     "name": "stderr",
     "output_type": "stream",
     "text": [
      "Coletando reviews:  67%|██████▋   | 67/100 [15:03<06:05, 11.07s/it]"
     ]
    },
    {
     "name": "stdout",
     "output_type": "stream",
     "text": [
      "\n",
      "68. O Ritual\n",
      "Acessando: https://www.imdb.com/title/tt32194932/reviews/\n",
      "  ✅ Clicou em 'Ver tudo'\n",
      "20 reviews | Sentimento: 0.236\n"
     ]
    },
    {
     "name": "stderr",
     "output_type": "stream",
     "text": [
      "Coletando reviews:  68%|██████▊   | 68/100 [15:19<06:42, 12.58s/it]"
     ]
    },
    {
     "name": "stdout",
     "output_type": "stream",
     "text": [
      "\n",
      "69. A Armadilha do Coelho\n",
      "Acessando: https://www.imdb.com/title/tt29567402/reviews/\n",
      "  ⚠️ Botão não encontrado: Message: no such element: Unable to locate element: {\"method\":\"xpath\",\"selector\":\"//button[.//span[text()='Ver tudo']]\"}\n",
      "  (Session info: chrome=141.0.7390.123); For documentation on this error, please visit: https://www.selenium.dev/documentation/webdriver/troubleshooting/errors#nosuchelementexception\n",
      "Stacktrace:\n",
      "\tGetHandleVerifier [0x0x110fe43+66515]\n",
      "\tGetHandleVerifier [0x0x110fe84+66580]\n",
      "\t(No symbol) [0x0xefdc48]\n",
      "\t(No symbol) [0x0xf48704]\n",
      "\t(No symbol) [0x0xf48aab]\n",
      "\t(No symbol) [0x0xf8f482]\n",
      "\t(No symbol) [0x0xf6b214]\n",
      "\t(No symbol) [0x0xf8cba7]\n",
      "\t(No symbol) [0x0xf6afc6]\n",
      "\t(No symbol) [0x0xf3c2ca]\n",
      "\t(No symbol) [0x0xf3d154]\n",
      "\tGetHandleVerifier [0x0x1367353+2521315]\n",
      "\tGetHandleVerifier [0x0x13622d3+2500707]\n",
      "\tGetHandleVerifier [0x0x1137c94+229924]\n",
      "\tGetHandleVerifier [0x0x11281f8+165768]\n",
      "\tGetHandleVerifier [0x0x112ecad+193085]\n",
      "\tGetHandleVerifier [0x0x1118158+100072]\n",
      "\tGetHandleVerifier [0x0x11182f0+100480]\n",
      "\tGetHandleVerifier [0x0x11025aa+11066]\n",
      "\tBaseThreadInitThunk [0x0x770dfcc9+25]\n",
      "\tRtlGetAppContainerNamedObjectPath [0x0x77d782ae+286]\n",
      "\tRtlGetAppContainerNamedObjectPath [0x0x77d7827e+238]\n",
      "\n",
      "20 reviews | Sentimento: 0.488\n"
     ]
    },
    {
     "name": "stderr",
     "output_type": "stream",
     "text": [
      "Coletando reviews:  69%|██████▉   | 69/100 [15:28<05:59, 11.60s/it]"
     ]
    },
    {
     "name": "stdout",
     "output_type": "stream",
     "text": [
      "\n",
      "70. Obsession\n",
      "Acessando: https://www.imdb.com/title/tt37287335/reviews/\n",
      "  ⚠️ Botão não encontrado: Message: no such element: Unable to locate element: {\"method\":\"xpath\",\"selector\":\"//button[.//span[text()='Ver tudo']]\"}\n",
      "  (Session info: chrome=141.0.7390.123); For documentation on this error, please visit: https://www.selenium.dev/documentation/webdriver/troubleshooting/errors#nosuchelementexception\n",
      "Stacktrace:\n",
      "\tGetHandleVerifier [0x0x110fe43+66515]\n",
      "\tGetHandleVerifier [0x0x110fe84+66580]\n",
      "\t(No symbol) [0x0xefdc48]\n",
      "\t(No symbol) [0x0xf48704]\n",
      "\t(No symbol) [0x0xf48aab]\n",
      "\t(No symbol) [0x0xf8f482]\n",
      "\t(No symbol) [0x0xf6b214]\n",
      "\t(No symbol) [0x0xf8cba7]\n",
      "\t(No symbol) [0x0xf6afc6]\n",
      "\t(No symbol) [0x0xf3c2ca]\n",
      "\t(No symbol) [0x0xf3d154]\n",
      "\tGetHandleVerifier [0x0x1367353+2521315]\n",
      "\tGetHandleVerifier [0x0x13622d3+2500707]\n",
      "\tGetHandleVerifier [0x0x1137c94+229924]\n",
      "\tGetHandleVerifier [0x0x11281f8+165768]\n",
      "\tGetHandleVerifier [0x0x112ecad+193085]\n",
      "\tGetHandleVerifier [0x0x1118158+100072]\n",
      "\tGetHandleVerifier [0x0x11182f0+100480]\n",
      "\tGetHandleVerifier [0x0x11025aa+11066]\n",
      "\tBaseThreadInitThunk [0x0x770dfcc9+25]\n",
      "\tRtlGetAppContainerNamedObjectPath [0x0x77d782ae+286]\n",
      "\tRtlGetAppContainerNamedObjectPath [0x0x77d7827e+238]\n",
      "\n",
      "2 reviews | Sentimento: 0.984\n"
     ]
    },
    {
     "name": "stderr",
     "output_type": "stream",
     "text": [
      "Coletando reviews:  70%|███████   | 70/100 [15:37<05:23, 10.78s/it]"
     ]
    },
    {
     "name": "stdout",
     "output_type": "stream",
     "text": [
      "\n",
      "71. O Anjo da Guarda\n",
      "Acessando: https://www.imdb.com/title/tt36364273/reviews/\n",
      "  ✅ Clicou em 'Ver tudo'\n",
      "20 reviews | Sentimento: 0.603\n"
     ]
    },
    {
     "name": "stderr",
     "output_type": "stream",
     "text": [
      "Coletando reviews:  71%|███████   | 71/100 [15:52<05:50, 12.07s/it]"
     ]
    },
    {
     "name": "stdout",
     "output_type": "stream",
     "text": [
      "\n",
      "72. Self-Help\n",
      "Acessando: https://www.imdb.com/title/tt37018900/reviews/\n",
      "  ⚠️ Botão não encontrado: Message: no such element: Unable to locate element: {\"method\":\"xpath\",\"selector\":\"//button[.//span[text()='Ver tudo']]\"}\n",
      "  (Session info: chrome=141.0.7390.123); For documentation on this error, please visit: https://www.selenium.dev/documentation/webdriver/troubleshooting/errors#nosuchelementexception\n",
      "Stacktrace:\n",
      "\tGetHandleVerifier [0x0x110fe43+66515]\n",
      "\tGetHandleVerifier [0x0x110fe84+66580]\n",
      "\t(No symbol) [0x0xefdc48]\n",
      "\t(No symbol) [0x0xf48704]\n",
      "\t(No symbol) [0x0xf48aab]\n",
      "\t(No symbol) [0x0xf8f482]\n",
      "\t(No symbol) [0x0xf6b214]\n",
      "\t(No symbol) [0x0xf8cba7]\n",
      "\t(No symbol) [0x0xf6afc6]\n",
      "\t(No symbol) [0x0xf3c2ca]\n",
      "\t(No symbol) [0x0xf3d154]\n",
      "\tGetHandleVerifier [0x0x1367353+2521315]\n",
      "\tGetHandleVerifier [0x0x13622d3+2500707]\n",
      "\tGetHandleVerifier [0x0x1137c94+229924]\n",
      "\tGetHandleVerifier [0x0x11281f8+165768]\n",
      "\tGetHandleVerifier [0x0x112ecad+193085]\n",
      "\tGetHandleVerifier [0x0x1118158+100072]\n",
      "\tGetHandleVerifier [0x0x11182f0+100480]\n",
      "\tGetHandleVerifier [0x0x11025aa+11066]\n",
      "\tBaseThreadInitThunk [0x0x770dfcc9+25]\n",
      "\tRtlGetAppContainerNamedObjectPath [0x0x77d782ae+286]\n",
      "\tRtlGetAppContainerNamedObjectPath [0x0x77d7827e+238]\n",
      "\n",
      "3 reviews | Sentimento: 0.815\n"
     ]
    },
    {
     "name": "stderr",
     "output_type": "stream",
     "text": [
      "Coletando reviews:  72%|███████▏  | 72/100 [16:01<05:09, 11.05s/it]"
     ]
    },
    {
     "name": "stdout",
     "output_type": "stream",
     "text": [
      "\n",
      "73. Ash: Planeta Parasita\n",
      "Acessando: https://www.imdb.com/title/tt17489650/reviews/\n",
      "  ✅ Clicou em 'Ver tudo'\n",
      "20 reviews | Sentimento: 0.640\n"
     ]
    },
    {
     "name": "stderr",
     "output_type": "stream",
     "text": [
      "Coletando reviews:  73%|███████▎  | 73/100 [16:16<05:35, 12.42s/it]"
     ]
    },
    {
     "name": "stdout",
     "output_type": "stream",
     "text": [
      "\n",
      "74. Night Patrol\n",
      "Acessando: https://www.imdb.com/title/tt8637438/reviews/\n",
      "  ⚠️ Botão não encontrado: Message: no such element: Unable to locate element: {\"method\":\"xpath\",\"selector\":\"//button[.//span[text()='Ver tudo']]\"}\n",
      "  (Session info: chrome=141.0.7390.123); For documentation on this error, please visit: https://www.selenium.dev/documentation/webdriver/troubleshooting/errors#nosuchelementexception\n",
      "Stacktrace:\n",
      "\tGetHandleVerifier [0x0x110fe43+66515]\n",
      "\tGetHandleVerifier [0x0x110fe84+66580]\n",
      "\t(No symbol) [0x0xefdc48]\n",
      "\t(No symbol) [0x0xf48704]\n",
      "\t(No symbol) [0x0xf48aab]\n",
      "\t(No symbol) [0x0xf8f482]\n",
      "\t(No symbol) [0x0xf6b214]\n",
      "\t(No symbol) [0x0xf8cba7]\n",
      "\t(No symbol) [0x0xf6afc6]\n",
      "\t(No symbol) [0x0xf3c2ca]\n",
      "\t(No symbol) [0x0xf3d154]\n",
      "\tGetHandleVerifier [0x0x1367353+2521315]\n",
      "\tGetHandleVerifier [0x0x13622d3+2500707]\n",
      "\tGetHandleVerifier [0x0x1137c94+229924]\n",
      "\tGetHandleVerifier [0x0x11281f8+165768]\n",
      "\tGetHandleVerifier [0x0x112ecad+193085]\n",
      "\tGetHandleVerifier [0x0x1118158+100072]\n",
      "\tGetHandleVerifier [0x0x11182f0+100480]\n",
      "\tGetHandleVerifier [0x0x11025aa+11066]\n",
      "\tBaseThreadInitThunk [0x0x770dfcc9+25]\n",
      "\tRtlGetAppContainerNamedObjectPath [0x0x77d782ae+286]\n",
      "\tRtlGetAppContainerNamedObjectPath [0x0x77d7827e+238]\n",
      "\n",
      "Nenhuma review encontrada\n"
     ]
    },
    {
     "name": "stderr",
     "output_type": "stream",
     "text": [
      "Coletando reviews:  74%|███████▍  | 74/100 [16:25<04:52, 11.25s/it]"
     ]
    },
    {
     "name": "stdout",
     "output_type": "stream",
     "text": [
      "\n",
      "75. O Som da Morte\n",
      "Acessando: https://www.imdb.com/title/tt29550683/reviews/\n",
      "  ⚠️ Botão não encontrado: Message: no such element: Unable to locate element: {\"method\":\"xpath\",\"selector\":\"//button[.//span[text()='Ver tudo']]\"}\n",
      "  (Session info: chrome=141.0.7390.123); For documentation on this error, please visit: https://www.selenium.dev/documentation/webdriver/troubleshooting/errors#nosuchelementexception\n",
      "Stacktrace:\n",
      "\tGetHandleVerifier [0x0x110fe43+66515]\n",
      "\tGetHandleVerifier [0x0x110fe84+66580]\n",
      "\t(No symbol) [0x0xefdc48]\n",
      "\t(No symbol) [0x0xf48704]\n",
      "\t(No symbol) [0x0xf48aab]\n",
      "\t(No symbol) [0x0xf8f482]\n",
      "\t(No symbol) [0x0xf6b214]\n",
      "\t(No symbol) [0x0xf8cba7]\n",
      "\t(No symbol) [0x0xf6afc6]\n",
      "\t(No symbol) [0x0xf3c2ca]\n",
      "\t(No symbol) [0x0xf3d154]\n",
      "\tGetHandleVerifier [0x0x1367353+2521315]\n",
      "\tGetHandleVerifier [0x0x13622d3+2500707]\n",
      "\tGetHandleVerifier [0x0x1137c94+229924]\n",
      "\tGetHandleVerifier [0x0x11281f8+165768]\n",
      "\tGetHandleVerifier [0x0x112ecad+193085]\n",
      "\tGetHandleVerifier [0x0x1118158+100072]\n",
      "\tGetHandleVerifier [0x0x11182f0+100480]\n",
      "\tGetHandleVerifier [0x0x11025aa+11066]\n",
      "\tBaseThreadInitThunk [0x0x770dfcc9+25]\n",
      "\tRtlGetAppContainerNamedObjectPath [0x0x77d782ae+286]\n",
      "\tRtlGetAppContainerNamedObjectPath [0x0x77d7827e+238]\n",
      "\n",
      "1 reviews | Sentimento: 0.998\n"
     ]
    },
    {
     "name": "stderr",
     "output_type": "stream",
     "text": [
      "Coletando reviews:  75%|███████▌  | 75/100 [16:34<04:22, 10.52s/it]"
     ]
    },
    {
     "name": "stdout",
     "output_type": "stream",
     "text": [
      "\n",
      "76. Captain Hook: The Cursed Tides\n",
      "Acessando: https://www.imdb.com/title/tt33458086/reviews/\n",
      "  ⚠️ Botão não encontrado: Message: no such element: Unable to locate element: {\"method\":\"xpath\",\"selector\":\"//button[.//span[text()='Ver tudo']]\"}\n",
      "  (Session info: chrome=141.0.7390.123); For documentation on this error, please visit: https://www.selenium.dev/documentation/webdriver/troubleshooting/errors#nosuchelementexception\n",
      "Stacktrace:\n",
      "\tGetHandleVerifier [0x0x110fe43+66515]\n",
      "\tGetHandleVerifier [0x0x110fe84+66580]\n",
      "\t(No symbol) [0x0xefdc48]\n",
      "\t(No symbol) [0x0xf48704]\n",
      "\t(No symbol) [0x0xf48aab]\n",
      "\t(No symbol) [0x0xf8f482]\n",
      "\t(No symbol) [0x0xf6b214]\n",
      "\t(No symbol) [0x0xf8cba7]\n",
      "\t(No symbol) [0x0xf6afc6]\n",
      "\t(No symbol) [0x0xf3c2ca]\n",
      "\t(No symbol) [0x0xf3d154]\n",
      "\tGetHandleVerifier [0x0x1367353+2521315]\n",
      "\tGetHandleVerifier [0x0x13622d3+2500707]\n",
      "\tGetHandleVerifier [0x0x1137c94+229924]\n",
      "\tGetHandleVerifier [0x0x11281f8+165768]\n",
      "\tGetHandleVerifier [0x0x112ecad+193085]\n",
      "\tGetHandleVerifier [0x0x1118158+100072]\n",
      "\tGetHandleVerifier [0x0x11182f0+100480]\n",
      "\tGetHandleVerifier [0x0x11025aa+11066]\n",
      "\tBaseThreadInitThunk [0x0x770dfcc9+25]\n",
      "\tRtlGetAppContainerNamedObjectPath [0x0x77d782ae+286]\n",
      "\tRtlGetAppContainerNamedObjectPath [0x0x77d7827e+238]\n",
      "\n",
      "4 reviews | Sentimento: 0.371\n"
     ]
    },
    {
     "name": "stderr",
     "output_type": "stream",
     "text": [
      "Coletando reviews:  76%|███████▌  | 76/100 [16:42<03:57,  9.88s/it]"
     ]
    },
    {
     "name": "stdout",
     "output_type": "stream",
     "text": [
      "\n",
      "77. Descendent\n",
      "Acessando: https://www.imdb.com/title/tt35521703/reviews/\n",
      "  ✅ Clicou em 'Ver tudo'\n",
      "20 reviews | Sentimento: 0.276\n"
     ]
    },
    {
     "name": "stderr",
     "output_type": "stream",
     "text": [
      "Coletando reviews:  77%|███████▋  | 77/100 [16:57<04:23, 11.46s/it]"
     ]
    },
    {
     "name": "stdout",
     "output_type": "stream",
     "text": [
      "\n",
      "78. The Undertone\n",
      "Acessando: https://www.imdb.com/title/tt35892608/reviews/\n",
      "  ⚠️ Botão não encontrado: Message: no such element: Unable to locate element: {\"method\":\"xpath\",\"selector\":\"//button[.//span[text()='Ver tudo']]\"}\n",
      "  (Session info: chrome=141.0.7390.123); For documentation on this error, please visit: https://www.selenium.dev/documentation/webdriver/troubleshooting/errors#nosuchelementexception\n",
      "Stacktrace:\n",
      "\tGetHandleVerifier [0x0x110fe43+66515]\n",
      "\tGetHandleVerifier [0x0x110fe84+66580]\n",
      "\t(No symbol) [0x0xefdc48]\n",
      "\t(No symbol) [0x0xf48704]\n",
      "\t(No symbol) [0x0xf48aab]\n",
      "\t(No symbol) [0x0xf8f482]\n",
      "\t(No symbol) [0x0xf6b214]\n",
      "\t(No symbol) [0x0xf8cba7]\n",
      "\t(No symbol) [0x0xf6afc6]\n",
      "\t(No symbol) [0x0xf3c2ca]\n",
      "\t(No symbol) [0x0xf3d154]\n",
      "\tGetHandleVerifier [0x0x1367353+2521315]\n",
      "\tGetHandleVerifier [0x0x13622d3+2500707]\n",
      "\tGetHandleVerifier [0x0x1137c94+229924]\n",
      "\tGetHandleVerifier [0x0x11281f8+165768]\n",
      "\tGetHandleVerifier [0x0x112ecad+193085]\n",
      "\tGetHandleVerifier [0x0x1118158+100072]\n",
      "\tGetHandleVerifier [0x0x11182f0+100480]\n",
      "\tGetHandleVerifier [0x0x11025aa+11066]\n",
      "\tBaseThreadInitThunk [0x0x770dfcc9+25]\n",
      "\tRtlGetAppContainerNamedObjectPath [0x0x77d782ae+286]\n",
      "\tRtlGetAppContainerNamedObjectPath [0x0x77d7827e+238]\n",
      "\n",
      "2 reviews | Sentimento: 0.991\n"
     ]
    },
    {
     "name": "stderr",
     "output_type": "stream",
     "text": [
      "Coletando reviews:  78%|███████▊  | 78/100 [17:06<03:53, 10.61s/it]"
     ]
    },
    {
     "name": "stdout",
     "output_type": "stream",
     "text": [
      "\n",
      "79. No Limite da Proteção\n",
      "Acessando: https://www.imdb.com/title/tt13650814/reviews/\n",
      "  ✅ Clicou em 'Ver tudo'\n",
      "20 reviews | Sentimento: 0.657\n"
     ]
    },
    {
     "name": "stderr",
     "output_type": "stream",
     "text": [
      "Coletando reviews:  79%|███████▉  | 79/100 [17:21<04:10, 11.95s/it]"
     ]
    },
    {
     "name": "stdout",
     "output_type": "stream",
     "text": [
      "\n",
      "80. Armazenamento Mortal\n",
      "Acessando: https://www.imdb.com/title/tt8879928/reviews/\n",
      "  ⚠️ Botão não encontrado: Message: no such element: Unable to locate element: {\"method\":\"xpath\",\"selector\":\"//button[.//span[text()='Ver tudo']]\"}\n",
      "  (Session info: chrome=141.0.7390.123); For documentation on this error, please visit: https://www.selenium.dev/documentation/webdriver/troubleshooting/errors#nosuchelementexception\n",
      "Stacktrace:\n",
      "\tGetHandleVerifier [0x0x110fe43+66515]\n",
      "\tGetHandleVerifier [0x0x110fe84+66580]\n",
      "\t(No symbol) [0x0xefdc48]\n",
      "\t(No symbol) [0x0xf48704]\n",
      "\t(No symbol) [0x0xf48aab]\n",
      "\t(No symbol) [0x0xf8f482]\n",
      "\t(No symbol) [0x0xf6b214]\n",
      "\t(No symbol) [0x0xf8cba7]\n",
      "\t(No symbol) [0x0xf6afc6]\n",
      "\t(No symbol) [0x0xf3c2ca]\n",
      "\t(No symbol) [0x0xf3d154]\n",
      "\tGetHandleVerifier [0x0x1367353+2521315]\n",
      "\tGetHandleVerifier [0x0x13622d3+2500707]\n",
      "\tGetHandleVerifier [0x0x1137c94+229924]\n",
      "\tGetHandleVerifier [0x0x11281f8+165768]\n",
      "\tGetHandleVerifier [0x0x112ecad+193085]\n",
      "\tGetHandleVerifier [0x0x1118158+100072]\n",
      "\tGetHandleVerifier [0x0x11182f0+100480]\n",
      "\tGetHandleVerifier [0x0x11025aa+11066]\n",
      "\tBaseThreadInitThunk [0x0x770dfcc9+25]\n",
      "\tRtlGetAppContainerNamedObjectPath [0x0x77d782ae+286]\n",
      "\tRtlGetAppContainerNamedObjectPath [0x0x77d7827e+238]\n",
      "\n",
      "Nenhuma review encontrada\n"
     ]
    },
    {
     "name": "stderr",
     "output_type": "stream",
     "text": [
      "Coletando reviews:  80%|████████  | 80/100 [17:29<03:38, 10.93s/it]"
     ]
    },
    {
     "name": "stdout",
     "output_type": "stream",
     "text": [
      "\n",
      "81. Last to Die\n",
      "Acessando: https://www.imdb.com/title/tt38131455/reviews/\n",
      "  ⚠️ Botão não encontrado: Message: no such element: Unable to locate element: {\"method\":\"xpath\",\"selector\":\"//button[.//span[text()='Ver tudo']]\"}\n",
      "  (Session info: chrome=141.0.7390.123); For documentation on this error, please visit: https://www.selenium.dev/documentation/webdriver/troubleshooting/errors#nosuchelementexception\n",
      "Stacktrace:\n",
      "\tGetHandleVerifier [0x0x110fe43+66515]\n",
      "\tGetHandleVerifier [0x0x110fe84+66580]\n",
      "\t(No symbol) [0x0xefdc48]\n",
      "\t(No symbol) [0x0xf48704]\n",
      "\t(No symbol) [0x0xf48aab]\n",
      "\t(No symbol) [0x0xf8f482]\n",
      "\t(No symbol) [0x0xf6b214]\n",
      "\t(No symbol) [0x0xf8cba7]\n",
      "\t(No symbol) [0x0xf6afc6]\n",
      "\t(No symbol) [0x0xf3c2ca]\n",
      "\t(No symbol) [0x0xf3d154]\n",
      "\tGetHandleVerifier [0x0x1367353+2521315]\n",
      "\tGetHandleVerifier [0x0x13622d3+2500707]\n",
      "\tGetHandleVerifier [0x0x1137c94+229924]\n",
      "\tGetHandleVerifier [0x0x11281f8+165768]\n",
      "\tGetHandleVerifier [0x0x112ecad+193085]\n",
      "\tGetHandleVerifier [0x0x1118158+100072]\n",
      "\tGetHandleVerifier [0x0x11182f0+100480]\n",
      "\tGetHandleVerifier [0x0x11025aa+11066]\n",
      "\tBaseThreadInitThunk [0x0x770dfcc9+25]\n",
      "\tRtlGetAppContainerNamedObjectPath [0x0x77d782ae+286]\n",
      "\tRtlGetAppContainerNamedObjectPath [0x0x77d7827e+238]\n",
      "\n",
      "8 reviews | Sentimento: 0.633\n"
     ]
    },
    {
     "name": "stderr",
     "output_type": "stream",
     "text": [
      "Coletando reviews:  81%|████████  | 81/100 [17:38<03:16, 10.32s/it]"
     ]
    },
    {
     "name": "stdout",
     "output_type": "stream",
     "text": [
      "\n",
      "82. Murder Report\n",
      "Acessando: https://www.imdb.com/title/tt37718411/reviews/\n",
      "  ⚠️ Botão não encontrado: Message: no such element: Unable to locate element: {\"method\":\"xpath\",\"selector\":\"//button[.//span[text()='Ver tudo']]\"}\n",
      "  (Session info: chrome=141.0.7390.123); For documentation on this error, please visit: https://www.selenium.dev/documentation/webdriver/troubleshooting/errors#nosuchelementexception\n",
      "Stacktrace:\n",
      "\tGetHandleVerifier [0x0x110fe43+66515]\n",
      "\tGetHandleVerifier [0x0x110fe84+66580]\n",
      "\t(No symbol) [0x0xefdc48]\n",
      "\t(No symbol) [0x0xf48704]\n",
      "\t(No symbol) [0x0xf48aab]\n",
      "\t(No symbol) [0x0xf8f482]\n",
      "\t(No symbol) [0x0xf6b214]\n",
      "\t(No symbol) [0x0xf8cba7]\n",
      "\t(No symbol) [0x0xf6afc6]\n",
      "\t(No symbol) [0x0xf3c2ca]\n",
      "\t(No symbol) [0x0xf3d154]\n",
      "\tGetHandleVerifier [0x0x1367353+2521315]\n",
      "\tGetHandleVerifier [0x0x13622d3+2500707]\n",
      "\tGetHandleVerifier [0x0x1137c94+229924]\n",
      "\tGetHandleVerifier [0x0x11281f8+165768]\n",
      "\tGetHandleVerifier [0x0x112ecad+193085]\n",
      "\tGetHandleVerifier [0x0x1118158+100072]\n",
      "\tGetHandleVerifier [0x0x11182f0+100480]\n",
      "\tGetHandleVerifier [0x0x11025aa+11066]\n",
      "\tBaseThreadInitThunk [0x0x770dfcc9+25]\n",
      "\tRtlGetAppContainerNamedObjectPath [0x0x77d782ae+286]\n",
      "\tRtlGetAppContainerNamedObjectPath [0x0x77d7827e+238]\n",
      "\n",
      "Nenhuma review encontrada\n"
     ]
    },
    {
     "name": "stderr",
     "output_type": "stream",
     "text": [
      "Coletando reviews:  82%|████████▏ | 82/100 [17:47<02:56,  9.83s/it]"
     ]
    },
    {
     "name": "stdout",
     "output_type": "stream",
     "text": [
      "\n",
      "83. Silent Zone\n",
      "Acessando: https://www.imdb.com/title/tt9023964/reviews/\n",
      "  ✅ Clicou em 'Ver tudo'\n",
      "20 reviews | Sentimento: 0.413\n"
     ]
    },
    {
     "name": "stderr",
     "output_type": "stream",
     "text": [
      "Coletando reviews:  83%|████████▎ | 83/100 [18:02<03:15, 11.48s/it]"
     ]
    },
    {
     "name": "stdout",
     "output_type": "stream",
     "text": [
      "\n",
      "84. Residence\n",
      "Acessando: https://www.imdb.com/title/tt5260932/reviews/\n",
      "  ⚠️ Botão não encontrado: Message: no such element: Unable to locate element: {\"method\":\"xpath\",\"selector\":\"//button[.//span[text()='Ver tudo']]\"}\n",
      "  (Session info: chrome=141.0.7390.123); For documentation on this error, please visit: https://www.selenium.dev/documentation/webdriver/troubleshooting/errors#nosuchelementexception\n",
      "Stacktrace:\n",
      "\tGetHandleVerifier [0x0x110fe43+66515]\n",
      "\tGetHandleVerifier [0x0x110fe84+66580]\n",
      "\t(No symbol) [0x0xefdc48]\n",
      "\t(No symbol) [0x0xf48704]\n",
      "\t(No symbol) [0x0xf48aab]\n",
      "\t(No symbol) [0x0xf8f482]\n",
      "\t(No symbol) [0x0xf6b214]\n",
      "\t(No symbol) [0x0xf8cba7]\n",
      "\t(No symbol) [0x0xf6afc6]\n",
      "\t(No symbol) [0x0xf3c2ca]\n",
      "\t(No symbol) [0x0xf3d154]\n",
      "\tGetHandleVerifier [0x0x1367353+2521315]\n",
      "\tGetHandleVerifier [0x0x13622d3+2500707]\n",
      "\tGetHandleVerifier [0x0x1137c94+229924]\n",
      "\tGetHandleVerifier [0x0x11281f8+165768]\n",
      "\tGetHandleVerifier [0x0x112ecad+193085]\n",
      "\tGetHandleVerifier [0x0x1118158+100072]\n",
      "\tGetHandleVerifier [0x0x11182f0+100480]\n",
      "\tGetHandleVerifier [0x0x11025aa+11066]\n",
      "\tBaseThreadInitThunk [0x0x770dfcc9+25]\n",
      "\tRtlGetAppContainerNamedObjectPath [0x0x77d782ae+286]\n",
      "\tRtlGetAppContainerNamedObjectPath [0x0x77d7827e+238]\n",
      "\n",
      "9 reviews | Sentimento: 0.955\n"
     ]
    },
    {
     "name": "stderr",
     "output_type": "stream",
     "text": [
      "Coletando reviews:  84%|████████▍ | 84/100 [18:11<02:51, 10.71s/it]"
     ]
    },
    {
     "name": "stdout",
     "output_type": "stream",
     "text": [
      "\n",
      "85. It Ends\n",
      "Acessando: https://www.imdb.com/title/tt35519455/reviews/\n",
      "  ⚠️ Botão não encontrado: Message: no such element: Unable to locate element: {\"method\":\"xpath\",\"selector\":\"//button[.//span[text()='Ver tudo']]\"}\n",
      "  (Session info: chrome=141.0.7390.123); For documentation on this error, please visit: https://www.selenium.dev/documentation/webdriver/troubleshooting/errors#nosuchelementexception\n",
      "Stacktrace:\n",
      "\tGetHandleVerifier [0x0x110fe43+66515]\n",
      "\tGetHandleVerifier [0x0x110fe84+66580]\n",
      "\t(No symbol) [0x0xefdc48]\n",
      "\t(No symbol) [0x0xf48704]\n",
      "\t(No symbol) [0x0xf48aab]\n",
      "\t(No symbol) [0x0xf8f482]\n",
      "\t(No symbol) [0x0xf6b214]\n",
      "\t(No symbol) [0x0xf8cba7]\n",
      "\t(No symbol) [0x0xf6afc6]\n",
      "\t(No symbol) [0x0xf3c2ca]\n",
      "\t(No symbol) [0x0xf3d154]\n",
      "\tGetHandleVerifier [0x0x1367353+2521315]\n",
      "\tGetHandleVerifier [0x0x13622d3+2500707]\n",
      "\tGetHandleVerifier [0x0x1137c94+229924]\n",
      "\tGetHandleVerifier [0x0x11281f8+165768]\n",
      "\tGetHandleVerifier [0x0x112ecad+193085]\n",
      "\tGetHandleVerifier [0x0x1118158+100072]\n",
      "\tGetHandleVerifier [0x0x11182f0+100480]\n",
      "\tGetHandleVerifier [0x0x11025aa+11066]\n",
      "\tBaseThreadInitThunk [0x0x770dfcc9+25]\n",
      "\tRtlGetAppContainerNamedObjectPath [0x0x77d782ae+286]\n",
      "\tRtlGetAppContainerNamedObjectPath [0x0x77d7827e+238]\n",
      "\n",
      "5 reviews | Sentimento: 0.647\n"
     ]
    },
    {
     "name": "stderr",
     "output_type": "stream",
     "text": [
      "Coletando reviews:  85%|████████▌ | 85/100 [18:20<02:30, 10.06s/it]"
     ]
    },
    {
     "name": "stdout",
     "output_type": "stream",
     "text": [
      "\n",
      "86. Fuck My Son!\n",
      "Acessando: https://www.imdb.com/title/tt32205896/reviews/\n",
      "  ⚠️ Botão não encontrado: Message: no such element: Unable to locate element: {\"method\":\"xpath\",\"selector\":\"//button[.//span[text()='Ver tudo']]\"}\n",
      "  (Session info: chrome=141.0.7390.123); For documentation on this error, please visit: https://www.selenium.dev/documentation/webdriver/troubleshooting/errors#nosuchelementexception\n",
      "Stacktrace:\n",
      "\tGetHandleVerifier [0x0x110fe43+66515]\n",
      "\tGetHandleVerifier [0x0x110fe84+66580]\n",
      "\t(No symbol) [0x0xefdc48]\n",
      "\t(No symbol) [0x0xf48704]\n",
      "\t(No symbol) [0x0xf48aab]\n",
      "\t(No symbol) [0x0xf8f482]\n",
      "\t(No symbol) [0x0xf6b214]\n",
      "\t(No symbol) [0x0xf8cba7]\n",
      "\t(No symbol) [0x0xf6afc6]\n",
      "\t(No symbol) [0x0xf3c2ca]\n",
      "\t(No symbol) [0x0xf3d154]\n",
      "\tGetHandleVerifier [0x0x1367353+2521315]\n",
      "\tGetHandleVerifier [0x0x13622d3+2500707]\n",
      "\tGetHandleVerifier [0x0x1137c94+229924]\n",
      "\tGetHandleVerifier [0x0x11281f8+165768]\n",
      "\tGetHandleVerifier [0x0x112ecad+193085]\n",
      "\tGetHandleVerifier [0x0x1118158+100072]\n",
      "\tGetHandleVerifier [0x0x11182f0+100480]\n",
      "\tGetHandleVerifier [0x0x11025aa+11066]\n",
      "\tBaseThreadInitThunk [0x0x770dfcc9+25]\n",
      "\tRtlGetAppContainerNamedObjectPath [0x0x77d782ae+286]\n",
      "\tRtlGetAppContainerNamedObjectPath [0x0x77d7827e+238]\n",
      "\n",
      "Nenhuma review encontrada\n"
     ]
    },
    {
     "name": "stderr",
     "output_type": "stream",
     "text": [
      "Coletando reviews:  86%|████████▌ | 86/100 [18:28<02:14,  9.61s/it]"
     ]
    },
    {
     "name": "stdout",
     "output_type": "stream",
     "text": [
      "\n",
      "87. Infância Sombria\n",
      "Acessando: https://www.imdb.com/title/tt28498159/reviews/\n",
      "  ✅ Clicou em 'Ver tudo'\n",
      "18 reviews | Sentimento: 0.530\n"
     ]
    },
    {
     "name": "stderr",
     "output_type": "stream",
     "text": [
      "Coletando reviews:  87%|████████▋ | 87/100 [18:43<02:26, 11.25s/it]"
     ]
    },
    {
     "name": "stdout",
     "output_type": "stream",
     "text": [
      "\n",
      "88. Popeye the Slayer Man\n",
      "Acessando: https://www.imdb.com/title/tt30956852/reviews/\n",
      "  ✅ Clicou em 'Ver tudo'\n",
      "20 reviews | Sentimento: 0.264\n"
     ]
    },
    {
     "name": "stderr",
     "output_type": "stream",
     "text": [
      "Coletando reviews:  88%|████████▊ | 88/100 [18:59<02:29, 12.45s/it]"
     ]
    },
    {
     "name": "stdout",
     "output_type": "stream",
     "text": [
      "\n",
      "89. Eye for an Eye\n",
      "Acessando: https://www.imdb.com/title/tt28088571/reviews/\n",
      "  ⚠️ Botão não encontrado: Message: no such element: Unable to locate element: {\"method\":\"xpath\",\"selector\":\"//button[.//span[text()='Ver tudo']]\"}\n",
      "  (Session info: chrome=141.0.7390.123); For documentation on this error, please visit: https://www.selenium.dev/documentation/webdriver/troubleshooting/errors#nosuchelementexception\n",
      "Stacktrace:\n",
      "\tGetHandleVerifier [0x0x110fe43+66515]\n",
      "\tGetHandleVerifier [0x0x110fe84+66580]\n",
      "\t(No symbol) [0x0xefdc48]\n",
      "\t(No symbol) [0x0xf48704]\n",
      "\t(No symbol) [0x0xf48aab]\n",
      "\t(No symbol) [0x0xf8f482]\n",
      "\t(No symbol) [0x0xf6b214]\n",
      "\t(No symbol) [0x0xf8cba7]\n",
      "\t(No symbol) [0x0xf6afc6]\n",
      "\t(No symbol) [0x0xf3c2ca]\n",
      "\t(No symbol) [0x0xf3d154]\n",
      "\tGetHandleVerifier [0x0x1367353+2521315]\n",
      "\tGetHandleVerifier [0x0x13622d3+2500707]\n",
      "\tGetHandleVerifier [0x0x1137c94+229924]\n",
      "\tGetHandleVerifier [0x0x11281f8+165768]\n",
      "\tGetHandleVerifier [0x0x112ecad+193085]\n",
      "\tGetHandleVerifier [0x0x1118158+100072]\n",
      "\tGetHandleVerifier [0x0x11182f0+100480]\n",
      "\tGetHandleVerifier [0x0x11025aa+11066]\n",
      "\tBaseThreadInitThunk [0x0x770dfcc9+25]\n",
      "\tRtlGetAppContainerNamedObjectPath [0x0x77d782ae+286]\n",
      "\tRtlGetAppContainerNamedObjectPath [0x0x77d7827e+238]\n",
      "\n",
      "6 reviews | Sentimento: 0.638\n"
     ]
    },
    {
     "name": "stderr",
     "output_type": "stream",
     "text": [
      "Coletando reviews:  89%|████████▉ | 89/100 [19:07<02:04, 11.34s/it]"
     ]
    },
    {
     "name": "stdout",
     "output_type": "stream",
     "text": [
      "\n",
      "90. Peter Pan - Pesadelo na Terra do Nunca\n",
      "Acessando: https://www.imdb.com/title/tt21955520/reviews/\n",
      "  ✅ Clicou em 'Ver tudo'\n",
      "20 reviews | Sentimento: 0.410\n"
     ]
    },
    {
     "name": "stderr",
     "output_type": "stream",
     "text": [
      "Coletando reviews:  90%|█████████ | 90/100 [19:23<02:04, 12.48s/it]"
     ]
    },
    {
     "name": "stdout",
     "output_type": "stream",
     "text": [
      "\n",
      "91. Alma and the Wolf\n",
      "Acessando: https://www.imdb.com/title/tt31849867/reviews/\n",
      "  ⚠️ Botão não encontrado: Message: no such element: Unable to locate element: {\"method\":\"xpath\",\"selector\":\"//button[.//span[text()='Ver tudo']]\"}\n",
      "  (Session info: chrome=141.0.7390.123); For documentation on this error, please visit: https://www.selenium.dev/documentation/webdriver/troubleshooting/errors#nosuchelementexception\n",
      "Stacktrace:\n",
      "\tGetHandleVerifier [0x0x110fe43+66515]\n",
      "\tGetHandleVerifier [0x0x110fe84+66580]\n",
      "\t(No symbol) [0x0xefdc48]\n",
      "\t(No symbol) [0x0xf48704]\n",
      "\t(No symbol) [0x0xf48aab]\n",
      "\t(No symbol) [0x0xf8f482]\n",
      "\t(No symbol) [0x0xf6b214]\n",
      "\t(No symbol) [0x0xf8cba7]\n",
      "\t(No symbol) [0x0xf6afc6]\n",
      "\t(No symbol) [0x0xf3c2ca]\n",
      "\t(No symbol) [0x0xf3d154]\n",
      "\tGetHandleVerifier [0x0x1367353+2521315]\n",
      "\tGetHandleVerifier [0x0x13622d3+2500707]\n",
      "\tGetHandleVerifier [0x0x1137c94+229924]\n",
      "\tGetHandleVerifier [0x0x11281f8+165768]\n",
      "\tGetHandleVerifier [0x0x112ecad+193085]\n",
      "\tGetHandleVerifier [0x0x1118158+100072]\n",
      "\tGetHandleVerifier [0x0x11182f0+100480]\n",
      "\tGetHandleVerifier [0x0x11025aa+11066]\n",
      "\tBaseThreadInitThunk [0x0x770dfcc9+25]\n",
      "\tRtlGetAppContainerNamedObjectPath [0x0x77d782ae+286]\n",
      "\tRtlGetAppContainerNamedObjectPath [0x0x77d7827e+238]\n",
      "\n",
      "9 reviews | Sentimento: 0.056\n"
     ]
    },
    {
     "name": "stderr",
     "output_type": "stream",
     "text": [
      "Coletando reviews:  91%|█████████ | 91/100 [19:31<01:42, 11.37s/it]"
     ]
    },
    {
     "name": "stdout",
     "output_type": "stream",
     "text": [
      "\n",
      "92. Vleesdag\n",
      "Acessando: https://www.imdb.com/title/tt34113961/reviews/\n",
      "  ⚠️ Botão não encontrado: Message: no such element: Unable to locate element: {\"method\":\"xpath\",\"selector\":\"//button[.//span[text()='Ver tudo']]\"}\n",
      "  (Session info: chrome=141.0.7390.123); For documentation on this error, please visit: https://www.selenium.dev/documentation/webdriver/troubleshooting/errors#nosuchelementexception\n",
      "Stacktrace:\n",
      "\tGetHandleVerifier [0x0x110fe43+66515]\n",
      "\tGetHandleVerifier [0x0x110fe84+66580]\n",
      "\t(No symbol) [0x0xefdc48]\n",
      "\t(No symbol) [0x0xf48704]\n",
      "\t(No symbol) [0x0xf48aab]\n",
      "\t(No symbol) [0x0xf8f482]\n",
      "\t(No symbol) [0x0xf6b214]\n",
      "\t(No symbol) [0x0xf8cba7]\n",
      "\t(No symbol) [0x0xf6afc6]\n",
      "\t(No symbol) [0x0xf3c2ca]\n",
      "\t(No symbol) [0x0xf3d154]\n",
      "\tGetHandleVerifier [0x0x1367353+2521315]\n",
      "\tGetHandleVerifier [0x0x13622d3+2500707]\n",
      "\tGetHandleVerifier [0x0x1137c94+229924]\n",
      "\tGetHandleVerifier [0x0x11281f8+165768]\n",
      "\tGetHandleVerifier [0x0x112ecad+193085]\n",
      "\tGetHandleVerifier [0x0x1118158+100072]\n",
      "\tGetHandleVerifier [0x0x11182f0+100480]\n",
      "\tGetHandleVerifier [0x0x11025aa+11066]\n",
      "\tBaseThreadInitThunk [0x0x770dfcc9+25]\n",
      "\tRtlGetAppContainerNamedObjectPath [0x0x77d782ae+286]\n",
      "\tRtlGetAppContainerNamedObjectPath [0x0x77d7827e+238]\n",
      "\n",
      "3 reviews | Sentimento: 0.087\n"
     ]
    },
    {
     "name": "stderr",
     "output_type": "stream",
     "text": [
      "Coletando reviews:  92%|█████████▏| 92/100 [19:40<01:24, 10.55s/it]"
     ]
    },
    {
     "name": "stdout",
     "output_type": "stream",
     "text": [
      "\n",
      "93. Rosario\n",
      "Acessando: https://www.imdb.com/title/tt27674700/reviews/\n",
      "  ✅ Clicou em 'Ver tudo'\n",
      "20 reviews | Sentimento: 0.629\n"
     ]
    },
    {
     "name": "stderr",
     "output_type": "stream",
     "text": [
      "Coletando reviews:  93%|█████████▎| 93/100 [19:55<01:23, 11.99s/it]"
     ]
    },
    {
     "name": "stdout",
     "output_type": "stream",
     "text": [
      "\n",
      "94. Dolly\n",
      "Acessando: https://www.imdb.com/title/tt32639175/reviews/\n",
      "  ⚠️ Botão não encontrado: Message: no such element: Unable to locate element: {\"method\":\"xpath\",\"selector\":\"//button[.//span[text()='Ver tudo']]\"}\n",
      "  (Session info: chrome=141.0.7390.123); For documentation on this error, please visit: https://www.selenium.dev/documentation/webdriver/troubleshooting/errors#nosuchelementexception\n",
      "Stacktrace:\n",
      "\tGetHandleVerifier [0x0x110fe43+66515]\n",
      "\tGetHandleVerifier [0x0x110fe84+66580]\n",
      "\t(No symbol) [0x0xefdc48]\n",
      "\t(No symbol) [0x0xf48704]\n",
      "\t(No symbol) [0x0xf48aab]\n",
      "\t(No symbol) [0x0xf8f482]\n",
      "\t(No symbol) [0x0xf6b214]\n",
      "\t(No symbol) [0x0xf8cba7]\n",
      "\t(No symbol) [0x0xf6afc6]\n",
      "\t(No symbol) [0x0xf3c2ca]\n",
      "\t(No symbol) [0x0xf3d154]\n",
      "\tGetHandleVerifier [0x0x1367353+2521315]\n",
      "\tGetHandleVerifier [0x0x13622d3+2500707]\n",
      "\tGetHandleVerifier [0x0x1137c94+229924]\n",
      "\tGetHandleVerifier [0x0x11281f8+165768]\n",
      "\tGetHandleVerifier [0x0x112ecad+193085]\n",
      "\tGetHandleVerifier [0x0x1118158+100072]\n",
      "\tGetHandleVerifier [0x0x11182f0+100480]\n",
      "\tGetHandleVerifier [0x0x11025aa+11066]\n",
      "\tBaseThreadInitThunk [0x0x770dfcc9+25]\n",
      "\tRtlGetAppContainerNamedObjectPath [0x0x77d782ae+286]\n",
      "\tRtlGetAppContainerNamedObjectPath [0x0x77d7827e+238]\n",
      "\n",
      "5 reviews | Sentimento: 0.898\n"
     ]
    },
    {
     "name": "stderr",
     "output_type": "stream",
     "text": [
      "Coletando reviews:  94%|█████████▍| 94/100 [20:04<01:06, 11.10s/it]"
     ]
    },
    {
     "name": "stdout",
     "output_type": "stream",
     "text": [
      "\n",
      "95. The Man with the Black Umbrella\n",
      "Acessando: https://www.imdb.com/title/tt38106016/reviews/\n",
      "  ⚠️ Botão não encontrado: Message: no such element: Unable to locate element: {\"method\":\"xpath\",\"selector\":\"//button[.//span[text()='Ver tudo']]\"}\n",
      "  (Session info: chrome=141.0.7390.123); For documentation on this error, please visit: https://www.selenium.dev/documentation/webdriver/troubleshooting/errors#nosuchelementexception\n",
      "Stacktrace:\n",
      "\tGetHandleVerifier [0x0x110fe43+66515]\n",
      "\tGetHandleVerifier [0x0x110fe84+66580]\n",
      "\t(No symbol) [0x0xefdc48]\n",
      "\t(No symbol) [0x0xf48704]\n",
      "\t(No symbol) [0x0xf48aab]\n",
      "\t(No symbol) [0x0xf8f482]\n",
      "\t(No symbol) [0x0xf6b214]\n",
      "\t(No symbol) [0x0xf8cba7]\n",
      "\t(No symbol) [0x0xf6afc6]\n",
      "\t(No symbol) [0x0xf3c2ca]\n",
      "\t(No symbol) [0x0xf3d154]\n",
      "\tGetHandleVerifier [0x0x1367353+2521315]\n",
      "\tGetHandleVerifier [0x0x13622d3+2500707]\n",
      "\tGetHandleVerifier [0x0x1137c94+229924]\n",
      "\tGetHandleVerifier [0x0x11281f8+165768]\n",
      "\tGetHandleVerifier [0x0x112ecad+193085]\n",
      "\tGetHandleVerifier [0x0x1118158+100072]\n",
      "\tGetHandleVerifier [0x0x11182f0+100480]\n",
      "\tGetHandleVerifier [0x0x11025aa+11066]\n",
      "\tBaseThreadInitThunk [0x0x770dfcc9+25]\n",
      "\tRtlGetAppContainerNamedObjectPath [0x0x77d782ae+286]\n",
      "\tRtlGetAppContainerNamedObjectPath [0x0x77d7827e+238]\n",
      "\n",
      "18 reviews | Sentimento: 0.144\n"
     ]
    },
    {
     "name": "stderr",
     "output_type": "stream",
     "text": [
      "Coletando reviews:  95%|█████████▌| 95/100 [20:13<00:52, 10.44s/it]"
     ]
    },
    {
     "name": "stdout",
     "output_type": "stream",
     "text": [
      "\n",
      "96. Screamboat - Terror a Bordo\n",
      "Acessando: https://www.imdb.com/title/tt30766582/reviews/\n",
      "  ✅ Clicou em 'Ver tudo'\n",
      "20 reviews | Sentimento: 0.317\n"
     ]
    },
    {
     "name": "stderr",
     "output_type": "stream",
     "text": [
      "Coletando reviews:  96%|█████████▌| 96/100 [20:29<00:47, 11.92s/it]"
     ]
    },
    {
     "name": "stdout",
     "output_type": "stream",
     "text": [
      "\n",
      "97. Stay\n",
      "Acessando: https://www.imdb.com/title/tt38039379/reviews/\n",
      "  ⚠️ Botão não encontrado: Message: no such element: Unable to locate element: {\"method\":\"xpath\",\"selector\":\"//button[.//span[text()='Ver tudo']]\"}\n",
      "  (Session info: chrome=141.0.7390.123); For documentation on this error, please visit: https://www.selenium.dev/documentation/webdriver/troubleshooting/errors#nosuchelementexception\n",
      "Stacktrace:\n",
      "\tGetHandleVerifier [0x0x110fe43+66515]\n",
      "\tGetHandleVerifier [0x0x110fe84+66580]\n",
      "\t(No symbol) [0x0xefdc48]\n",
      "\t(No symbol) [0x0xf48704]\n",
      "\t(No symbol) [0x0xf48aab]\n",
      "\t(No symbol) [0x0xf8f482]\n",
      "\t(No symbol) [0x0xf6b214]\n",
      "\t(No symbol) [0x0xf8cba7]\n",
      "\t(No symbol) [0x0xf6afc6]\n",
      "\t(No symbol) [0x0xf3c2ca]\n",
      "\t(No symbol) [0x0xf3d154]\n",
      "\tGetHandleVerifier [0x0x1367353+2521315]\n",
      "\tGetHandleVerifier [0x0x13622d3+2500707]\n",
      "\tGetHandleVerifier [0x0x1137c94+229924]\n",
      "\tGetHandleVerifier [0x0x11281f8+165768]\n",
      "\tGetHandleVerifier [0x0x112ecad+193085]\n",
      "\tGetHandleVerifier [0x0x1118158+100072]\n",
      "\tGetHandleVerifier [0x0x11182f0+100480]\n",
      "\tGetHandleVerifier [0x0x11025aa+11066]\n",
      "\tBaseThreadInitThunk [0x0x770dfcc9+25]\n",
      "\tRtlGetAppContainerNamedObjectPath [0x0x77d782ae+286]\n",
      "\tRtlGetAppContainerNamedObjectPath [0x0x77d7827e+238]\n",
      "\n",
      "14 reviews | Sentimento: 0.624\n"
     ]
    },
    {
     "name": "stderr",
     "output_type": "stream",
     "text": [
      "Coletando reviews:  97%|█████████▋| 97/100 [20:38<00:33, 11.11s/it]"
     ]
    },
    {
     "name": "stdout",
     "output_type": "stream",
     "text": [
      "\n",
      "98. Su from So\n",
      "Acessando: https://www.imdb.com/title/tt37629310/reviews/\n",
      "  ✅ Clicou em 'Ver tudo'\n",
      "20 reviews | Sentimento: 0.855\n"
     ]
    },
    {
     "name": "stderr",
     "output_type": "stream",
     "text": [
      "Coletando reviews:  98%|█████████▊| 98/100 [20:53<00:24, 12.39s/it]"
     ]
    },
    {
     "name": "stdout",
     "output_type": "stream",
     "text": [
      "\n",
      "99. Drácula\n",
      "Acessando: https://www.imdb.com/title/tt32448239/reviews/\n",
      "  ⚠️ Botão não encontrado: Message: no such element: Unable to locate element: {\"method\":\"xpath\",\"selector\":\"//button[.//span[text()='Ver tudo']]\"}\n",
      "  (Session info: chrome=141.0.7390.123); For documentation on this error, please visit: https://www.selenium.dev/documentation/webdriver/troubleshooting/errors#nosuchelementexception\n",
      "Stacktrace:\n",
      "\tGetHandleVerifier [0x0x110fe43+66515]\n",
      "\tGetHandleVerifier [0x0x110fe84+66580]\n",
      "\t(No symbol) [0x0xefdc48]\n",
      "\t(No symbol) [0x0xf48704]\n",
      "\t(No symbol) [0x0xf48aab]\n",
      "\t(No symbol) [0x0xf8f482]\n",
      "\t(No symbol) [0x0xf6b214]\n",
      "\t(No symbol) [0x0xf8cba7]\n",
      "\t(No symbol) [0x0xf6afc6]\n",
      "\t(No symbol) [0x0xf3c2ca]\n",
      "\t(No symbol) [0x0xf3d154]\n",
      "\tGetHandleVerifier [0x0x1367353+2521315]\n",
      "\tGetHandleVerifier [0x0x13622d3+2500707]\n",
      "\tGetHandleVerifier [0x0x1137c94+229924]\n",
      "\tGetHandleVerifier [0x0x11281f8+165768]\n",
      "\tGetHandleVerifier [0x0x112ecad+193085]\n",
      "\tGetHandleVerifier [0x0x1118158+100072]\n",
      "\tGetHandleVerifier [0x0x11182f0+100480]\n",
      "\tGetHandleVerifier [0x0x11025aa+11066]\n",
      "\tBaseThreadInitThunk [0x0x770dfcc9+25]\n",
      "\tRtlGetAppContainerNamedObjectPath [0x0x77d782ae+286]\n",
      "\tRtlGetAppContainerNamedObjectPath [0x0x77d7827e+238]\n",
      "\n",
      "3 reviews | Sentimento: 0.902\n"
     ]
    },
    {
     "name": "stderr",
     "output_type": "stream",
     "text": [
      "Coletando reviews:  99%|█████████▉| 99/100 [21:02<00:11, 11.35s/it]"
     ]
    },
    {
     "name": "stdout",
     "output_type": "stream",
     "text": [
      "\n",
      "100. A Vingança de Popeye\n",
      "Acessando: https://www.imdb.com/title/tt33362807/reviews/\n",
      "  ✅ Clicou em 'Ver tudo'\n",
      "20 reviews | Sentimento: -0.044\n"
     ]
    },
    {
     "name": "stderr",
     "output_type": "stream",
     "text": [
      "Coletando reviews: 100%|██████████| 100/100 [21:17<00:00, 12.78s/it]"
     ]
    },
    {
     "name": "stdout",
     "output_type": "stream",
     "text": [
      "                              Titulo Nota_IMDb  \\\n",
      "0                      A Hora do Mal       7,5   \n",
      "1  A Longa Marcha - Caminhe ou Morra       6,9   \n",
      "2                       Frankenstein       7,8   \n",
      "3                 O Telefone Preto 2       6,6   \n",
      "4          A Mão que Balança o Berço       5,3   \n",
      "\n",
      "                                                Link  sentimento_medio  \\\n",
      "0  https://www.imdb.com/pt/title/tt26581740/?ref_...          0.817640   \n",
      "1  https://www.imdb.com/pt/title/tt10374610/?ref_...          0.436060   \n",
      "2  https://www.imdb.com/pt/title/tt1312221/?ref_=...          0.799455   \n",
      "3  https://www.imdb.com/pt/title/tt29644189/?ref_...          0.516095   \n",
      "4  https://www.imdb.com/pt/title/tt33502160/?ref_...          0.340175   \n",
      "\n",
      "   sentimento_max  sentimento_min  num_reviews  reviews_positivas  \\\n",
      "0          0.9957         -0.9509           20                 19   \n",
      "1          0.9964         -0.9525           20                 14   \n",
      "2          0.9993         -0.9253           20                 19   \n",
      "3          0.9986         -0.9773           20                 15   \n",
      "4          0.9961         -0.9210           20                 14   \n",
      "\n",
      "   reviews_negativas  medo_intenso  suspense  gore  atmosfera  jump_scares  \n",
      "0                  1             7         6     1          7            1  \n",
      "1                  6             3         4     3          3            1  \n",
      "2                  1             2         0     2          5            0  \n",
      "3                  4            11         4     4          6            1  \n",
      "4                  6             0         3     0          3            0  \n"
     ]
    },
    {
     "name": "stderr",
     "output_type": "stream",
     "text": [
      "\n"
     ]
    }
   ],
   "source": [
    "from tqdm import tqdm\n",
    "import time\n",
    "\n",
    "# Lista para armazenar resultados completos\n",
    "resultados_completos = []\n",
    "\n",
    "for idx, row in tqdm(df_filmes.iterrows(), total=len(df_filmes), desc=\"Coletando reviews\"):\n",
    "    try:\n",
    "        print(f\"\\n{idx+1}. {row['Titulo']}\")\n",
    "        \n",
    "        # Coletar reviews\n",
    "        reviews = coletar_reviews(row['Link'], num_reviews=20)\n",
    "        \n",
    "        if reviews:\n",
    "            # Análise de sentimento geral\n",
    "            sentimentos = analisar_sentimento_filme_terror(reviews)\n",
    "            \n",
    "            # Classificar emoções específicas de terror\n",
    "            emocoes = classificar_emocoes_terror(reviews)\n",
    "            \n",
    "            resultado = {\n",
    "                'Titulo': row['Titulo'],\n",
    "                'Nota_IMDb': row['Nota_IMDb'],\n",
    "                'Link': row['Link'],\n",
    "                **sentimentos,\n",
    "                **emocoes\n",
    "            }\n",
    "            \n",
    "            resultados_completos.append(resultado)\n",
    "            print(f\"{len(reviews)} reviews | Sentimento: {sentimentos['sentimento_medio']:.3f}\")\n",
    "        else:\n",
    "            print(\"Nenhuma review encontrada\")\n",
    "        \n",
    "        time.sleep(2)\n",
    "        \n",
    "    except Exception as e:\n",
    "        print(f\"Erro: {e}\")\n",
    "        continue\n",
    "\n",
    "\n",
    "df_analise = pd.DataFrame(resultados_completos)\n",
    "\n",
    "print(df_analise.head())"
   ]
  },
  {
   "cell_type": "code",
   "execution_count": 101,
   "id": "4e500408",
   "metadata": {},
   "outputs": [
    {
     "data": {
      "application/vnd.microsoft.datawrangler.viewer.v0+json": {
       "columns": [
        {
         "name": "index",
         "rawType": "int64",
         "type": "integer"
        },
        {
         "name": "Titulo",
         "rawType": "object",
         "type": "string"
        },
        {
         "name": "Nota_IMDb",
         "rawType": "object",
         "type": "unknown"
        },
        {
         "name": "Link",
         "rawType": "object",
         "type": "string"
        },
        {
         "name": "sentimento_medio",
         "rawType": "float64",
         "type": "float"
        },
        {
         "name": "sentimento_max",
         "rawType": "float64",
         "type": "float"
        },
        {
         "name": "sentimento_min",
         "rawType": "float64",
         "type": "float"
        },
        {
         "name": "num_reviews",
         "rawType": "int64",
         "type": "integer"
        },
        {
         "name": "reviews_positivas",
         "rawType": "int64",
         "type": "integer"
        },
        {
         "name": "reviews_negativas",
         "rawType": "int64",
         "type": "integer"
        },
        {
         "name": "medo_intenso",
         "rawType": "int64",
         "type": "integer"
        },
        {
         "name": "suspense",
         "rawType": "int64",
         "type": "integer"
        },
        {
         "name": "gore",
         "rawType": "int64",
         "type": "integer"
        },
        {
         "name": "atmosfera",
         "rawType": "int64",
         "type": "integer"
        },
        {
         "name": "jump_scares",
         "rawType": "int64",
         "type": "integer"
        }
       ],
       "ref": "ae21ee43-6abc-4e52-9bed-0bbe179fb584",
       "rows": [
        [
         "0",
         "A Hora do Mal",
         "7,5",
         "https://www.imdb.com/pt/title/tt26581740/?ref_=sr_t_1",
         "0.8176399999999999",
         "0.9957",
         "-0.9509",
         "20",
         "19",
         "1",
         "7",
         "6",
         "1",
         "7",
         "1"
        ],
        [
         "1",
         "A Longa Marcha - Caminhe ou Morra",
         "6,9",
         "https://www.imdb.com/pt/title/tt10374610/?ref_=sr_t_2",
         "0.43606",
         "0.9964",
         "-0.9525",
         "20",
         "14",
         "6",
         "3",
         "4",
         "3",
         "3",
         "1"
        ],
        [
         "2",
         "Frankenstein",
         "7,8",
         "https://www.imdb.com/pt/title/tt1312221/?ref_=sr_t_3",
         "0.799455",
         "0.9993",
         "-0.9253",
         "20",
         "19",
         "1",
         "2",
         "0",
         "2",
         "5",
         "0"
        ],
        [
         "3",
         "O Telefone Preto 2",
         "6,6",
         "https://www.imdb.com/pt/title/tt29644189/?ref_=sr_t_4",
         "0.516095",
         "0.9986",
         "-0.9773",
         "20",
         "15",
         "4",
         "11",
         "4",
         "4",
         "6",
         "1"
        ],
        [
         "4",
         "A Mão que Balança o Berço",
         "5,3",
         "https://www.imdb.com/pt/title/tt33502160/?ref_=sr_t_5",
         "0.340175",
         "0.9961",
         "-0.921",
         "20",
         "14",
         "6",
         "0",
         "3",
         "0",
         "3",
         "0"
        ],
        [
         "5",
         "O elixir",
         "5,4",
         "https://www.imdb.com/pt/title/tt32643830/?ref_=sr_t_6",
         "0.297595",
         "0.9871",
         "-0.9508",
         "20",
         "14",
         "6",
         "1",
         "3",
         "4",
         "0",
         "0"
        ],
        [
         "6",
         "Bom Menino",
         "6,3",
         "https://www.imdb.com/pt/title/tt35521922/?ref_=sr_t_7",
         "0.875065",
         "0.9997",
         "0.1779",
         "20",
         "20",
         "0",
         "7",
         "1",
         "1",
         "6",
         "1"
        ],
        [
         "7",
         "Chainsaw Man - O Filme: Arco da Reze",
         "8,6",
         "https://www.imdb.com/pt/title/tt30472557/?ref_=sr_t_8",
         "0.7083",
         "0.994",
         "-0.9458",
         "20",
         "19",
         "1",
         "0",
         "0",
         "3",
         "2",
         "0"
        ],
        [
         "8",
         "Eu Sei o que Vocês Fizeram no Verão Passado",
         "5,1",
         "https://www.imdb.com/pt/title/tt4045450/?ref_=sr_t_9",
         "0.37490999999999997",
         "0.9993",
         "-0.99",
         "20",
         "14",
         "6",
         "2",
         "3",
         "1",
         "4",
         "1"
        ],
        [
         "9",
         "Pecadores",
         "7,6",
         "https://www.imdb.com/pt/title/tt31193180/?ref_=sr_t_10",
         "0.8010849999999999",
         "0.9994",
         "-0.8175",
         "20",
         "18",
         "2",
         "2",
         "4",
         "1",
         "4",
         "1"
        ],
        [
         "10",
         "Invocação do Mal 4: O Último Ritual",
         "6,2",
         "https://www.imdb.com/pt/title/tt22898462/?ref_=sr_t_11",
         "0.637005",
         "0.9958",
         "-0.9264",
         "20",
         "17",
         "3",
         "7",
         "2",
         "0",
         "5",
         "4"
        ],
        [
         "11",
         "Faça Ela Voltar",
         "7,2",
         "https://www.imdb.com/pt/title/tt32246771/?ref_=sr_t_12",
         "0.6910350000000001",
         "0.999",
         "-0.9799",
         "20",
         "17",
         "3",
         "14",
         "7",
         "9",
         "7",
         "6"
        ],
        [
         "12",
         "Extermínio: A Evolução",
         "6,6",
         "https://www.imdb.com/pt/title/tt10548174/?ref_=sr_t_13",
         "0.49850000000000005",
         "0.9986",
         "-0.81",
         "20",
         "15",
         "5",
         "3",
         "4",
         "2",
         "6",
         "1"
        ],
        [
         "13",
         "Thamma",
         "6,5",
         "https://www.imdb.com/pt/title/tt28102562/?ref_=sr_t_14",
         "0.654695",
         "0.9944",
         "-0.802",
         "20",
         "16",
         "4",
         "2",
         "2",
         "2",
         "1",
         "1"
        ],
        [
         "14",
         "Drácula: Uma História de Amor Eterno",
         "6,2",
         "https://www.imdb.com/pt/title/tt31434030/?ref_=sr_t_15",
         "0.7532449999999999",
         "0.9979",
         "-0.9569",
         "20",
         "19",
         "1",
         "3",
         "1",
         "1",
         "6",
         "0"
        ],
        [
         "15",
         "Presente Maldito",
         "4,9",
         "https://www.imdb.com/pt/title/tt31511689/?ref_=sr_t_16",
         "0.31367500000000004",
         "0.9987",
         "-0.9671",
         "20",
         "14",
         "6",
         "8",
         "2",
         "4",
         "1",
         "4"
        ],
        [
         "16",
         "A Astronauta",
         "4,7",
         "https://www.imdb.com/pt/title/tt13964560/?ref_=sr_t_17",
         "0.23973499999999998",
         "0.9988",
         "-0.9431",
         "20",
         "12",
         "8",
         "2",
         "3",
         "0",
         "4",
         "0"
        ],
        [
         "17",
         "Vash Level 2",
         "7,4",
         "https://www.imdb.com/pt/title/tt35529436/?ref_=sr_t_18",
         "0.7017800000000001",
         "0.9944",
         "-0.9948",
         "20",
         "18",
         "2",
         "2",
         "3",
         "3",
         "4",
         "1"
        ],
        [
         "18",
         "Juntos",
         "6,7",
         "https://www.imdb.com/pt/title/tt31184028/?ref_=sr_t_19",
         "0.81393",
         "0.999",
         "-0.6171",
         "20",
         "18",
         "2",
         "6",
         "2",
         "6",
         "7",
         "2"
        ],
        [
         "19",
         "Until Dawn: Noite de Terror",
         "5,7",
         "https://www.imdb.com/pt/title/tt30955489/?ref_=sr_t_20",
         "0.8270500000000001",
         "0.9976",
         "-0.9476",
         "20",
         "19",
         "1",
         "5",
         "1",
         "8",
         "2",
         "2"
        ],
        [
         "20",
         "GOAT",
         "5,1",
         "https://www.imdb.com/pt/title/tt20990442/?ref_=sr_t_21",
         "0.322835",
         "0.9956",
         "-0.9324",
         "20",
         "14",
         "6",
         "3",
         "1",
         "2",
         "7",
         "0"
        ],
        [
         "21",
         "O Macaco",
         "5,9",
         "https://www.imdb.com/pt/title/tt27714946/?ref_=sr_t_22",
         "0.47673",
         "0.9995",
         "-0.9673",
         "20",
         "15",
         "5",
         "5",
         "3",
         "9",
         "10",
         "4"
        ],
        [
         "22",
         "Premonição 6: Laços de Sangue",
         "6,7",
         "https://www.imdb.com/pt/title/tt9619824/?ref_=sr_t_23",
         "0.9277150000000001",
         "0.9983",
         "0.5411",
         "20",
         "20",
         "0",
         "3",
         "3",
         "5",
         "6",
         "1"
        ],
        [
         "23",
         "A Meia-Irmã Feia",
         "7,0",
         "https://www.imdb.com/pt/title/tt29344903/?ref_=sr_t_24",
         "0.9369099999999999",
         "0.999",
         "0.5498",
         "20",
         "20",
         "0",
         "4",
         "4",
         "7",
         "7",
         "2"
        ],
        [
         "24",
         "Os Estranhos: Capítulo 2",
         "4,7",
         "https://www.imdb.com/pt/title/tt28671344/?ref_=sr_t_25",
         "-0.079155",
         "0.98",
         "-0.9932",
         "20",
         "10",
         "10",
         "5",
         "5",
         "1",
         "1",
         "3"
        ],
        [
         "25",
         "V/H/S: Halloween",
         "5,7",
         "https://www.imdb.com/pt/title/tt37676033/?ref_=sr_t_26",
         "0.28352",
         "0.9984",
         "-0.9454",
         "20",
         "14",
         "6",
         "6",
         "0",
         "7",
         "5",
         "0"
        ],
        [
         "26",
         "Entre Montanhas",
         "6,7",
         "https://www.imdb.com/pt/title/tt13654226/?ref_=sr_t_27",
         "0.846265",
         "0.997",
         "-0.8252",
         "20",
         "19",
         "1",
         "4",
         "3",
         "0",
         "4",
         "0"
        ],
        [
         "27",
         "R.L. Stine's Pumpkinhead",
         "6,0",
         "https://www.imdb.com/pt/title/tt38218065/?ref_=sr_t_28",
         "0.8687153846153847",
         "0.9959",
         "0.4295",
         "13",
         "13",
         "0",
         "7",
         "0",
         "0",
         "0",
         "0"
        ],
        [
         "28",
         "Your Host",
         "4,8",
         "https://www.imdb.com/pt/title/tt33980854/?ref_=sr_t_29",
         "0.7221894736842106",
         "0.9982",
         "-0.8839",
         "19",
         "17",
         "2",
         "3",
         "0",
         "8",
         "2",
         "1"
        ],
        [
         "29",
         "O Primata",
         "6,4",
         "https://www.imdb.com/pt/title/tt33028778/?ref_=sr_t_30",
         "0.99545",
         "0.9979",
         "0.993",
         "2",
         "2",
         "0",
         "0",
         "0",
         "2",
         "0",
         "0"
        ],
        [
         "30",
         "Other",
         "5,1",
         "https://www.imdb.com/pt/title/tt34207924/?ref_=sr_t_31",
         "0.4108833333333333",
         "0.9843",
         "-0.9398",
         "12",
         "9",
         "3",
         "3",
         "0",
         "2",
         "2",
         "1"
        ],
        [
         "31",
         "Animais Perigosos",
         "6,4",
         "https://www.imdb.com/pt/title/tt32299316/?ref_=sr_t_32",
         "0.782425",
         "0.9953",
         "-0.8059",
         "20",
         "18",
         "2",
         "9",
         "5",
         "3",
         "2",
         "1"
        ],
        [
         "32",
         "Primitive War",
         "5,4",
         "https://www.imdb.com/pt/title/tt18312380/?ref_=sr_t_33",
         "0.295895",
         "0.9983",
         "-0.9619",
         "20",
         "13",
         "7",
         "1",
         "1",
         "4",
         "0",
         "2"
        ],
        [
         "33",
         "Ataque 13",
         "5,6",
         "https://www.imdb.com/pt/title/tt37332874/?ref_=sr_t_34",
         "0.050754545454545476",
         "0.9846",
         "-0.9403",
         "11",
         "5",
         "6",
         "1",
         "0",
         "4",
         "3",
         "2"
        ],
        [
         "34",
         "Dream Eater",
         "5,4",
         "https://www.imdb.com/pt/title/tt27861297/?ref_=sr_t_35",
         "0.607625",
         "0.9957",
         "-0.8597",
         "8",
         "7",
         "1",
         "4",
         "2",
         "0",
         "1",
         "1"
        ],
        [
         "35",
         "Osiris",
         "4,7",
         "https://www.imdb.com/pt/title/tt31179712/?ref_=sr_t_36",
         "0.33191000000000004",
         "0.9853",
         "-0.7574",
         "20",
         "13",
         "7",
         "1",
         "0",
         "1",
         "0",
         "1"
        ],
        [
         "36",
         "Halloween Aftermath",
         "6,6",
         "https://www.imdb.com/pt/title/tt25785230/?ref_=sr_t_37",
         "0.46462222222222227",
         "0.9956",
         "-0.705",
         "9",
         "6",
         "3",
         "2",
         "0",
         "0",
         "0",
         "1"
        ],
        [
         "37",
         "Heart Eyes",
         "6,0",
         "https://www.imdb.com/pt/title/tt32558992/?ref_=sr_t_38",
         "0.797185",
         "0.9932",
         "-0.7721",
         "20",
         "18",
         "2",
         "2",
         "3",
         "7",
         "3",
         "1"
        ],
        [
         "38",
         "Lobisomem",
         "5,6",
         "https://www.imdb.com/pt/title/tt4216984/?ref_=sr_t_39",
         "0.47462",
         "0.9968",
         "-0.9652",
         "20",
         "14",
         "5",
         "4",
         "1",
         "1",
         "5",
         "2"
        ],
        [
         "39",
         "Match",
         "5,3",
         "https://www.imdb.com/pt/title/tt37436190/?ref_=sr_t_40",
         "0.28300714285714285",
         "0.9889",
         "-0.9733",
         "14",
         "9",
         "5",
         "0",
         "0",
         "1",
         "2",
         "0"
        ],
        [
         "40",
         "A Morte de um Unicórnio",
         "5,9",
         "https://www.imdb.com/pt/title/tt28443655/?ref_=sr_t_41",
         "0.533495",
         "0.9946",
         "-0.8659",
         "20",
         "16",
         "4",
         "3",
         "1",
         "7",
         "3",
         "4"
        ],
        [
         "41",
         "Night of the Reaper",
         "5,9",
         "https://www.imdb.com/pt/title/tt34379050/?ref_=sr_t_42",
         "0.33605",
         "0.9925",
         "-0.9261",
         "20",
         "12",
         "8",
         "2",
         "5",
         "2",
         "3",
         "2"
        ],
        [
         "42",
         "A Besta do Mar",
         "5,4",
         "https://www.imdb.com/pt/title/tt29468874/?ref_=sr_t_43",
         "0.5129722222222222",
         "0.9981",
         "-0.9042",
         "18",
         "13",
         "5",
         "2",
         "3",
         "3",
         "2",
         "0"
        ],
        [
         "43",
         "Kishkindhapuri",
         "7,3",
         "https://www.imdb.com/pt/title/tt32175880/?ref_=sr_t_44",
         "0.29155",
         "0.9996",
         "-0.9776",
         "14",
         "9",
         "5",
         "2",
         "3",
         "2",
         "2",
         "1"
        ],
        [
         "44",
         "O Palhaço no Milharal",
         "5,6",
         "https://www.imdb.com/pt/title/tt23060698/?ref_=sr_t_45",
         "0.61605",
         "0.9998",
         "-0.7311",
         "20",
         "16",
         "2",
         "7",
         "4",
         "9",
         "1",
         "2"
        ],
        [
         "45",
         "Queens of the Dead",
         "5,8",
         "https://www.imdb.com/pt/title/tt32986431/?ref_=sr_t_46",
         "0.5458500000000001",
         "0.9791",
         "-0.9102",
         "6",
         "5",
         "1",
         "1",
         "0",
         "1",
         "0",
         "0"
        ],
        [
         "46",
         "Frankie e os Monstros",
         "6,2",
         "https://www.imdb.com/pt/title/tt26720001/?ref_=sr_t_47",
         "0.5278875",
         "0.993",
         "-0.9099",
         "8",
         "6",
         "2",
         "2",
         "1",
         "0",
         "0",
         "0"
        ],
        [
         "47",
         "A Mulher no Jardim",
         "5,0",
         "https://www.imdb.com/pt/title/tt31314296/?ref_=sr_t_48",
         "0.46297499999999997",
         "0.9966",
         "-0.891",
         "20",
         "14",
         "6",
         "7",
         "3",
         "2",
         "2",
         "5"
        ],
        [
         "48",
         "A Noite dos Palhaços",
         "5,4",
         "https://www.imdb.com/pt/title/tt31065246/?ref_=sr_t_49",
         "0.41623333333333334",
         "0.994",
         "-0.5574",
         "9",
         "5",
         "2",
         "1",
         "1",
         "2",
         "1",
         "0"
        ],
        [
         "49",
         "The Exit 8",
         "6,5",
         "https://www.imdb.com/pt/title/tt35222590/?ref_=sr_t_50",
         "0.495925",
         "0.996",
         "-0.9242",
         "20",
         "15",
         "4",
         "3",
         "4",
         "1",
         "3",
         "3"
        ]
       ],
       "shape": {
        "columns": 14,
        "rows": 94
       }
      },
      "text/html": [
       "<div>\n",
       "<style scoped>\n",
       "    .dataframe tbody tr th:only-of-type {\n",
       "        vertical-align: middle;\n",
       "    }\n",
       "\n",
       "    .dataframe tbody tr th {\n",
       "        vertical-align: top;\n",
       "    }\n",
       "\n",
       "    .dataframe thead th {\n",
       "        text-align: right;\n",
       "    }\n",
       "</style>\n",
       "<table border=\"1\" class=\"dataframe\">\n",
       "  <thead>\n",
       "    <tr style=\"text-align: right;\">\n",
       "      <th></th>\n",
       "      <th>Titulo</th>\n",
       "      <th>Nota_IMDb</th>\n",
       "      <th>Link</th>\n",
       "      <th>sentimento_medio</th>\n",
       "      <th>sentimento_max</th>\n",
       "      <th>sentimento_min</th>\n",
       "      <th>num_reviews</th>\n",
       "      <th>reviews_positivas</th>\n",
       "      <th>reviews_negativas</th>\n",
       "      <th>medo_intenso</th>\n",
       "      <th>suspense</th>\n",
       "      <th>gore</th>\n",
       "      <th>atmosfera</th>\n",
       "      <th>jump_scares</th>\n",
       "    </tr>\n",
       "  </thead>\n",
       "  <tbody>\n",
       "    <tr>\n",
       "      <th>0</th>\n",
       "      <td>A Hora do Mal</td>\n",
       "      <td>7,5</td>\n",
       "      <td>https://www.imdb.com/pt/title/tt26581740/?ref_...</td>\n",
       "      <td>0.817640</td>\n",
       "      <td>0.9957</td>\n",
       "      <td>-0.9509</td>\n",
       "      <td>20</td>\n",
       "      <td>19</td>\n",
       "      <td>1</td>\n",
       "      <td>7</td>\n",
       "      <td>6</td>\n",
       "      <td>1</td>\n",
       "      <td>7</td>\n",
       "      <td>1</td>\n",
       "    </tr>\n",
       "    <tr>\n",
       "      <th>1</th>\n",
       "      <td>A Longa Marcha - Caminhe ou Morra</td>\n",
       "      <td>6,9</td>\n",
       "      <td>https://www.imdb.com/pt/title/tt10374610/?ref_...</td>\n",
       "      <td>0.436060</td>\n",
       "      <td>0.9964</td>\n",
       "      <td>-0.9525</td>\n",
       "      <td>20</td>\n",
       "      <td>14</td>\n",
       "      <td>6</td>\n",
       "      <td>3</td>\n",
       "      <td>4</td>\n",
       "      <td>3</td>\n",
       "      <td>3</td>\n",
       "      <td>1</td>\n",
       "    </tr>\n",
       "    <tr>\n",
       "      <th>2</th>\n",
       "      <td>Frankenstein</td>\n",
       "      <td>7,8</td>\n",
       "      <td>https://www.imdb.com/pt/title/tt1312221/?ref_=...</td>\n",
       "      <td>0.799455</td>\n",
       "      <td>0.9993</td>\n",
       "      <td>-0.9253</td>\n",
       "      <td>20</td>\n",
       "      <td>19</td>\n",
       "      <td>1</td>\n",
       "      <td>2</td>\n",
       "      <td>0</td>\n",
       "      <td>2</td>\n",
       "      <td>5</td>\n",
       "      <td>0</td>\n",
       "    </tr>\n",
       "    <tr>\n",
       "      <th>3</th>\n",
       "      <td>O Telefone Preto 2</td>\n",
       "      <td>6,6</td>\n",
       "      <td>https://www.imdb.com/pt/title/tt29644189/?ref_...</td>\n",
       "      <td>0.516095</td>\n",
       "      <td>0.9986</td>\n",
       "      <td>-0.9773</td>\n",
       "      <td>20</td>\n",
       "      <td>15</td>\n",
       "      <td>4</td>\n",
       "      <td>11</td>\n",
       "      <td>4</td>\n",
       "      <td>4</td>\n",
       "      <td>6</td>\n",
       "      <td>1</td>\n",
       "    </tr>\n",
       "    <tr>\n",
       "      <th>4</th>\n",
       "      <td>A Mão que Balança o Berço</td>\n",
       "      <td>5,3</td>\n",
       "      <td>https://www.imdb.com/pt/title/tt33502160/?ref_...</td>\n",
       "      <td>0.340175</td>\n",
       "      <td>0.9961</td>\n",
       "      <td>-0.9210</td>\n",
       "      <td>20</td>\n",
       "      <td>14</td>\n",
       "      <td>6</td>\n",
       "      <td>0</td>\n",
       "      <td>3</td>\n",
       "      <td>0</td>\n",
       "      <td>3</td>\n",
       "      <td>0</td>\n",
       "    </tr>\n",
       "    <tr>\n",
       "      <th>...</th>\n",
       "      <td>...</td>\n",
       "      <td>...</td>\n",
       "      <td>...</td>\n",
       "      <td>...</td>\n",
       "      <td>...</td>\n",
       "      <td>...</td>\n",
       "      <td>...</td>\n",
       "      <td>...</td>\n",
       "      <td>...</td>\n",
       "      <td>...</td>\n",
       "      <td>...</td>\n",
       "      <td>...</td>\n",
       "      <td>...</td>\n",
       "      <td>...</td>\n",
       "    </tr>\n",
       "    <tr>\n",
       "      <th>89</th>\n",
       "      <td>Screamboat - Terror a Bordo</td>\n",
       "      <td>3,2</td>\n",
       "      <td>https://www.imdb.com/pt/title/tt30766582/?ref_...</td>\n",
       "      <td>0.317175</td>\n",
       "      <td>0.9977</td>\n",
       "      <td>-0.9782</td>\n",
       "      <td>20</td>\n",
       "      <td>12</td>\n",
       "      <td>7</td>\n",
       "      <td>3</td>\n",
       "      <td>0</td>\n",
       "      <td>9</td>\n",
       "      <td>3</td>\n",
       "      <td>1</td>\n",
       "    </tr>\n",
       "    <tr>\n",
       "      <th>90</th>\n",
       "      <td>Stay</td>\n",
       "      <td>7,7</td>\n",
       "      <td>https://www.imdb.com/pt/title/tt38039379/?ref_...</td>\n",
       "      <td>0.623536</td>\n",
       "      <td>0.9951</td>\n",
       "      <td>-0.9286</td>\n",
       "      <td>14</td>\n",
       "      <td>12</td>\n",
       "      <td>2</td>\n",
       "      <td>2</td>\n",
       "      <td>3</td>\n",
       "      <td>2</td>\n",
       "      <td>4</td>\n",
       "      <td>1</td>\n",
       "    </tr>\n",
       "    <tr>\n",
       "      <th>91</th>\n",
       "      <td>Su from So</td>\n",
       "      <td>6,0</td>\n",
       "      <td>https://www.imdb.com/pt/title/tt37629310/?ref_...</td>\n",
       "      <td>0.855490</td>\n",
       "      <td>0.9980</td>\n",
       "      <td>0.2924</td>\n",
       "      <td>20</td>\n",
       "      <td>20</td>\n",
       "      <td>0</td>\n",
       "      <td>1</td>\n",
       "      <td>3</td>\n",
       "      <td>0</td>\n",
       "      <td>0</td>\n",
       "      <td>0</td>\n",
       "    </tr>\n",
       "    <tr>\n",
       "      <th>92</th>\n",
       "      <td>Drácula</td>\n",
       "      <td>3,2</td>\n",
       "      <td>https://www.imdb.com/pt/title/tt32448239/?ref_...</td>\n",
       "      <td>0.902467</td>\n",
       "      <td>0.9596</td>\n",
       "      <td>0.8650</td>\n",
       "      <td>3</td>\n",
       "      <td>3</td>\n",
       "      <td>0</td>\n",
       "      <td>0</td>\n",
       "      <td>0</td>\n",
       "      <td>0</td>\n",
       "      <td>0</td>\n",
       "      <td>1</td>\n",
       "    </tr>\n",
       "    <tr>\n",
       "      <th>93</th>\n",
       "      <td>A Vingança de Popeye</td>\n",
       "      <td>None</td>\n",
       "      <td>https://www.imdb.com/pt/title/tt33362807/?ref_...</td>\n",
       "      <td>-0.043800</td>\n",
       "      <td>0.9934</td>\n",
       "      <td>-0.9766</td>\n",
       "      <td>20</td>\n",
       "      <td>9</td>\n",
       "      <td>11</td>\n",
       "      <td>1</td>\n",
       "      <td>2</td>\n",
       "      <td>3</td>\n",
       "      <td>3</td>\n",
       "      <td>1</td>\n",
       "    </tr>\n",
       "  </tbody>\n",
       "</table>\n",
       "<p>94 rows × 14 columns</p>\n",
       "</div>"
      ],
      "text/plain": [
       "                               Titulo Nota_IMDb  \\\n",
       "0                       A Hora do Mal       7,5   \n",
       "1   A Longa Marcha - Caminhe ou Morra       6,9   \n",
       "2                        Frankenstein       7,8   \n",
       "3                  O Telefone Preto 2       6,6   \n",
       "4           A Mão que Balança o Berço       5,3   \n",
       "..                                ...       ...   \n",
       "89        Screamboat - Terror a Bordo       3,2   \n",
       "90                               Stay       7,7   \n",
       "91                         Su from So       6,0   \n",
       "92                            Drácula       3,2   \n",
       "93               A Vingança de Popeye      None   \n",
       "\n",
       "                                                 Link  sentimento_medio  \\\n",
       "0   https://www.imdb.com/pt/title/tt26581740/?ref_...          0.817640   \n",
       "1   https://www.imdb.com/pt/title/tt10374610/?ref_...          0.436060   \n",
       "2   https://www.imdb.com/pt/title/tt1312221/?ref_=...          0.799455   \n",
       "3   https://www.imdb.com/pt/title/tt29644189/?ref_...          0.516095   \n",
       "4   https://www.imdb.com/pt/title/tt33502160/?ref_...          0.340175   \n",
       "..                                                ...               ...   \n",
       "89  https://www.imdb.com/pt/title/tt30766582/?ref_...          0.317175   \n",
       "90  https://www.imdb.com/pt/title/tt38039379/?ref_...          0.623536   \n",
       "91  https://www.imdb.com/pt/title/tt37629310/?ref_...          0.855490   \n",
       "92  https://www.imdb.com/pt/title/tt32448239/?ref_...          0.902467   \n",
       "93  https://www.imdb.com/pt/title/tt33362807/?ref_...         -0.043800   \n",
       "\n",
       "    sentimento_max  sentimento_min  num_reviews  reviews_positivas  \\\n",
       "0           0.9957         -0.9509           20                 19   \n",
       "1           0.9964         -0.9525           20                 14   \n",
       "2           0.9993         -0.9253           20                 19   \n",
       "3           0.9986         -0.9773           20                 15   \n",
       "4           0.9961         -0.9210           20                 14   \n",
       "..             ...             ...          ...                ...   \n",
       "89          0.9977         -0.9782           20                 12   \n",
       "90          0.9951         -0.9286           14                 12   \n",
       "91          0.9980          0.2924           20                 20   \n",
       "92          0.9596          0.8650            3                  3   \n",
       "93          0.9934         -0.9766           20                  9   \n",
       "\n",
       "    reviews_negativas  medo_intenso  suspense  gore  atmosfera  jump_scares  \n",
       "0                   1             7         6     1          7            1  \n",
       "1                   6             3         4     3          3            1  \n",
       "2                   1             2         0     2          5            0  \n",
       "3                   4            11         4     4          6            1  \n",
       "4                   6             0         3     0          3            0  \n",
       "..                ...           ...       ...   ...        ...          ...  \n",
       "89                  7             3         0     9          3            1  \n",
       "90                  2             2         3     2          4            1  \n",
       "91                  0             1         3     0          0            0  \n",
       "92                  0             0         0     0          0            1  \n",
       "93                 11             1         2     3          3            1  \n",
       "\n",
       "[94 rows x 14 columns]"
      ]
     },
     "execution_count": 101,
     "metadata": {},
     "output_type": "execute_result"
    }
   ],
   "source": [
    "df_analise"
   ]
  },
  {
   "cell_type": "code",
   "execution_count": null,
   "id": "3b271e4e",
   "metadata": {},
   "outputs": [
    {
     "name": "stdout",
     "output_type": "stream",
     "text": [
      "\n",
      " TOP 10 FILMES DE TERROR MAIS ASSUSTADORES:\n",
      "\n",
      "                           Titulo Nota_IMDb  score_terror  sentimento_medio  \\\n",
      "11                Faça Ela Voltar       7,2      6.702587          0.691035   \n",
      "86                        Rosario       7,7      6.023688          0.629475   \n",
      "23               A Meia-Irmã Feia       7,0      6.017275          0.936910   \n",
      "0                   A Hora do Mal       7,5      5.944100          0.817640   \n",
      "31              Animais Perigosos       6,4      5.806062          0.782425   \n",
      "6                      Bom Menino       6,3      5.787662          0.875065   \n",
      "18                         Juntos       6,7      5.784825          0.813930   \n",
      "22  Premonição 6: Laços de Sangue       6,7      5.719288          0.927715   \n",
      "3              O Telefone Preto 2       6,6      5.515237          0.516095   \n",
      "19    Until Dawn: Noite de Terror       5,7      5.467625          0.827050   \n",
      "\n",
      "    num_reviews  medo_intenso  \n",
      "11           20            14  \n",
      "86           20            11  \n",
      "23           20             4  \n",
      "0            20             7  \n",
      "31           20             9  \n",
      "6            20             7  \n",
      "18           20             6  \n",
      "22           20             3  \n",
      "3            20            11  \n",
      "19           20             5  \n"
     ]
    }
   ],
   "source": [
    "# Aqui eu calculo o score do 'terror efetivo'\n",
    "score_emocoes = (\n",
    "    (df_analise['medo_intenso'] / df_analise['num_reviews']) * 4 +\n",
    "    (df_analise['suspense'] / df_analise['num_reviews']) * 2 +\n",
    "    (df_analise['atmosfera'] / df_analise['num_reviews']) * 2 +\n",
    "    (df_analise['gore'] / df_analise['num_reviews']) * 1 +\n",
    "    (df_analise['jump_scares'] / df_analise['num_reviews']) * 1\n",
    ")\n",
    "\n",
    "# Penaliza filmes com poucas views para não desbalancear as notas\n",
    "sentimento_normalizado = (df_analise['sentimento_medio'] + 1) / 2\n",
    "\n",
    "# a nota final é composta por 50% do score de terror e 50% dos sentimentos obtidos\n",
    "score_bruto = (score_emocoes * 0.5) + (sentimento_normalizado * 10 * 0.5)\n",
    "\n",
    "# Fator de confiança\n",
    "min_reviews = 20\n",
    "df_analise['fator_confianca'] = df_analise['num_reviews'].apply(lambda x: min(x / min_reviews, 1.0))\n",
    "\n",
    "# Score final\n",
    "df_analise['score_terror'] = score_bruto * df_analise['fator_confianca']\n",
    "\n",
    "# Ranking\n",
    "ranking_terror = df_analise.sort_values('score_terror', ascending=False)\n",
    "\n",
    "print(\"\\n TOP 10 FILMES DE TERROR MAIS ASSUSTADORES:\\n\")\n",
    "print(ranking_terror[['Titulo', 'Nota_IMDb', 'score_terror', 'sentimento_medio', 'num_reviews', 'medo_intenso']].head(10))\n"
   ]
  }
 ],
 "metadata": {
  "kernelspec": {
   "display_name": "Python 3",
   "language": "python",
   "name": "python3"
  },
  "language_info": {
   "codemirror_mode": {
    "name": "ipython",
    "version": 3
   },
   "file_extension": ".py",
   "mimetype": "text/x-python",
   "name": "python",
   "nbconvert_exporter": "python",
   "pygments_lexer": "ipython3",
   "version": "3.13.1"
  }
 },
 "nbformat": 4,
 "nbformat_minor": 5
}
